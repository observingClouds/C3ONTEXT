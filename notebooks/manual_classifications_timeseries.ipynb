{
 "cells": [
  {
   "cell_type": "code",
   "execution_count": 1,
   "metadata": {},
   "outputs": [],
   "source": [
    "import numpy as np\n",
    "import xarray as xr\n",
    "import matplotlib.pyplot as plt\n",
    "from matplotlib import dates\n",
    "import datetime as dt\n",
    "from pandas.plotting import register_matplotlib_converters\n",
    "register_matplotlib_converters()"
   ]
  },
  {
   "cell_type": "code",
   "execution_count": 51,
   "metadata": {},
   "outputs": [],
   "source": [
    "# Workflow as given in l3 output\n",
    "workflow = 'IR'\n",
    "\n",
    "# Level3 filename (input)\n",
    "level3_file = '../processed_data/EUREC4A_ManualClassifications_l3_{workflow}.zarr'.format(workflow=workflow)\n",
    "\n",
    "# DSHIP Meteor (input)\n",
    "meteor_dship_file = '/Users/haukeschulz/Documents/EUREC4A/Radiosoundings/EUREC4Asoundings/EUREC4A_Meteor_DSHIP.nc'\n",
    "\n",
    "# Figure directory (output)\n",
    "outdir = '../figures/'"
   ]
  },
  {
   "cell_type": "code",
   "execution_count": 52,
   "metadata": {},
   "outputs": [],
   "source": [
    "ds = xr.open_zarr(level3_file)"
   ]
  },
  {
   "cell_type": "code",
   "execution_count": 53,
   "metadata": {},
   "outputs": [],
   "source": [
    "color_dict = {'Flowers':'#2281BB',\n",
    "              'Fish': '#93D2E2',\n",
    "              'Gravel': '#3EAE47',\n",
    "              'Sugar': '#A1D791'}"
   ]
  },
  {
   "cell_type": "code",
   "execution_count": 54,
   "metadata": {},
   "outputs": [
    {
     "data": {
      "text/plain": [
       "<xarray.Dataset>\n",
       "Dimensions:    (date: 47, latitude: 1500, longitude: 2200, pattern: 4)\n",
       "Coordinates:\n",
       "  * date       (date) datetime64[ns] 2020-01-07 2020-01-08 ... 2020-02-22\n",
       "  * latitude   (latitude) float64 20.0 19.99 19.98 19.97 ... 5.03 5.02 5.01 5.0\n",
       "  * longitude  (longitude) float64 -62.0 -61.99 -61.98 ... -40.02 -40.01 -40.0\n",
       "  * pattern    (pattern) object 'Sugar' 'Flowers' 'Fish' 'Gravel'\n",
       "Data variables:\n",
       "    freq       (date, longitude, latitude, pattern) float64 dask.array<shape=(47, 2200, 1500, 4), chunksize=(1, 2200, 1500, 4)>\n",
       "    nb_users   (date) float64 dask.array<shape=(47,), chunksize=(1,)>\n",
       "Attributes:\n",
       "    author:          Hauke Schulz (hauke.schulz@mpimet.mpg.de)\n",
       "    created_on:      2020-06-10 00:43 UTC\n",
       "    created_with:    create_level3.py with its last modification on Tue Jun  ...\n",
       "    description:     Level-3: daily classification frequency\n",
       "    institute:       Max Planck Institut für Meteorologie, Germany\n",
       "    python_version:  3.6.7 | packaged by conda-forge | (default, Jul  2 2019,...\n",
       "    title:           EUREC4A: manual meso-scale cloud pattern classifications\n",
       "    version:         --"
      ]
     },
     "execution_count": 54,
     "metadata": {},
     "output_type": "execute_result"
    }
   ],
   "source": [
    "ds"
   ]
  },
  {
   "cell_type": "code",
   "execution_count": 55,
   "metadata": {},
   "outputs": [
    {
     "data": {
      "image/png": "[encoded data removed]",
      "text/plain": [
       "<Figure size 576x108 with 1 Axes>"
      ]
     },
     "metadata": {
      "needs_background": "light"
     },
     "output_type": "display_data"
    }
   ],
   "source": [
    "frequency = np.zeros((len(ds.date)))\n",
    "\n",
    "fig, ax = plt.subplots(figsize=(8,1.5))\n",
    "\n",
    "for p in ['Sugar', 'Gravel', 'Fish', 'Flowers']:\n",
    "    data = ds.freq.interp(latitude=13.1626389, longitude=-059.4287500).sel(pattern=p).values *100\n",
    "    data[np.isnan(data)] = 0\n",
    "    ax.bar(dates.date2num(ds.date), data, label=p, bottom=frequency, color=color_dict[p])\n",
    "    frequency += data\n",
    "    hfmt = dates.DateFormatter('%d.%m')\n",
    "    ax.xaxis.set_major_locator(dates.DayLocator(interval=5))\n",
    "    ax.xaxis.set_major_formatter(hfmt)\n",
    "plt.legend(frameon=False, bbox_to_anchor=(1,1))\n",
    "plt.xlabel('date')\n",
    "plt.ylabel('classification (%)')\n",
    "plt.xlim(dt.datetime(2020,1,6), dt.datetime(2020,2,23))\n",
    "plt.savefig(outdir+'ManualClassification_BCO_{}.pdf'.format(workflow),bbox_inches='tight')"
   ]
  },
  {
   "cell_type": "code",
   "execution_count": 56,
   "metadata": {},
   "outputs": [],
   "source": [
    "ds_meteor = xr.open_dataset(meteor_dship_file)"
   ]
  },
  {
   "cell_type": "code",
   "execution_count": 57,
   "metadata": {},
   "outputs": [
    {
     "data": {
      "text/plain": [
       "<xarray.Dataset>\n",
       "Dimensions:  (time: 63144)\n",
       "Coordinates:\n",
       "  * time     (time) datetime64[ns] 2020-01-17 ... 2020-02-29T23:59:01\n",
       "    lat      (time) float64 ...\n",
       "    lon      (time) float64 ...\n",
       "Data variables:\n",
       "    speed    (time) float64 ...\n",
       "    p        (time) float64 ...\n",
       "    Tport    (time) float64 ...\n",
       "    Tstar    (time) float64 ...\n",
       "    RHport   (time) float64 ...\n",
       "    RHstar   (time) float64 ...\n",
       "    DD_true  (time) float64 ...\n",
       "    FF_true  (time) float64 ...\n",
       "    SSTport  (time) float64 ...\n",
       "    SSTstar  (time) float64 ...\n",
       "Attributes:\n",
       "    source:          ['/Users/haukeschulz/Documents/GitProjects/eurec4a_snd/e...\n",
       "    git_version:     --\n",
       "    created_with:    convert_DSHIP.py with its last modifications on Sun May ...\n",
       "    created_on:      Mon May 18 23:38:57 2020\n",
       "    python_version:  3.7.6 | packaged by conda-forge | (default, Mar 23 2020,...\n",
       "    Conventions:     CF-1.7\n",
       "    featureType:     trajectory"
      ]
     },
     "execution_count": 57,
     "metadata": {},
     "output_type": "execute_result"
    }
   ],
   "source": [
    "ds_meteor"
   ]
  },
  {
   "cell_type": "code",
   "execution_count": 58,
   "metadata": {},
   "outputs": [],
   "source": [
    "# Make coordinates data variables\n",
    "ds_meteor['latitude'] = xr.DataArray(ds_meteor.lat.values, dims=['time'])\n",
    "ds_meteor['longitude'] = xr.DataArray(ds_meteor.lon.values, dims=['time'])"
   ]
  },
  {
   "cell_type": "code",
   "execution_count": 59,
   "metadata": {},
   "outputs": [],
   "source": [
    "ds_meteor_daily = ds_meteor.resample(time='1D').mean() # Attention, only works as long as the equator and 0 meridian are not crossed"
   ]
  },
  {
   "cell_type": "code",
   "execution_count": 60,
   "metadata": {},
   "outputs": [
    {
     "name": "stdout",
     "output_type": "stream",
     "text": [
      "No data found for date <xarray.DataArray 'time' ()>\n",
      "array(1582416000000000000, dtype='datetime64[ns]')\n",
      "Coordinates:\n",
      "    time     datetime64[ns] 2020-02-23\n",
      "No data found for date <xarray.DataArray 'time' ()>\n",
      "array(1582502400000000000, dtype='datetime64[ns]')\n",
      "Coordinates:\n",
      "    time     datetime64[ns] 2020-02-24\n",
      "No data found for date <xarray.DataArray 'time' ()>\n",
      "array(1582588800000000000, dtype='datetime64[ns]')\n",
      "Coordinates:\n",
      "    time     datetime64[ns] 2020-02-25\n",
      "No data found for date <xarray.DataArray 'time' ()>\n",
      "array(1582675200000000000, dtype='datetime64[ns]')\n",
      "Coordinates:\n",
      "    time     datetime64[ns] 2020-02-26\n",
      "No data found for date <xarray.DataArray 'time' ()>\n",
      "array(1582761600000000000, dtype='datetime64[ns]')\n",
      "Coordinates:\n",
      "    time     datetime64[ns] 2020-02-27\n",
      "No data found for date <xarray.DataArray 'time' ()>\n",
      "array(1582848000000000000, dtype='datetime64[ns]')\n",
      "Coordinates:\n",
      "    time     datetime64[ns] 2020-02-28\n",
      "No data found for date <xarray.DataArray 'time' ()>\n",
      "array(1582934400000000000, dtype='datetime64[ns]')\n",
      "Coordinates:\n",
      "    time     datetime64[ns] 2020-02-29\n"
     ]
    },
    {
     "data": {
      "image/png": "[encoded data removed]",
      "text/plain": [
       "<Figure size 576x108 with 1 Axes>"
      ]
     },
     "metadata": {
      "needs_background": "light"
     },
     "output_type": "display_data"
    }
   ],
   "source": [
    "frequency = np.zeros((len(ds.date)))\n",
    "\n",
    "fig, ax = plt.subplots(figsize=(8,1.5))\n",
    "\n",
    "for d, date in enumerate(ds_meteor_daily.time):\n",
    "    frequency = 0\n",
    "    lat = ds_meteor_daily.latitude.sel(time=date)\n",
    "    lon = ds_meteor_daily.longitude.sel(time=date)\n",
    "    for p in ['Sugar', 'Gravel', 'Fish', 'Flowers']:\n",
    "        try:\n",
    "            data = ds.freq.interp(latitude=lat, longitude=lon).sel(date=date, pattern=p).values *100\n",
    "        except KeyError:\n",
    "            print('No data found for date {}'.format(date))\n",
    "            break\n",
    "        if np.isnan(data):\n",
    "            data = 0\n",
    "        ax.bar(dates.date2num(date), data, label=p, bottom=frequency, color=color_dict[p])\n",
    "        hfmt = dates.DateFormatter('%d.%m')\n",
    "        ax.xaxis.set_major_locator(dates.DayLocator(interval=5))\n",
    "        ax.xaxis.set_major_formatter(hfmt)\n",
    "        frequency += data\n",
    "    if d == 0:\n",
    "        plt.legend(frameon=False, bbox_to_anchor=(1,1))\n",
    "plt.xlabel('date')\n",
    "plt.ylabel('classification (%)')\n",
    "plt.xlim(dt.datetime(2020,1,6), dt.datetime(2020,2,23))\n",
    "plt.savefig(outdir+'ManualClassification_Meteor_{}.pdf'.format(workflow),bbox_inches='tight')"
   ]
  },
  {
   "cell_type": "code",
   "execution_count": 61,
   "metadata": {},
   "outputs": [
    {
     "data": {
      "text/plain": [
       "'/Users/haukeschulz/Documents/EUREC4A/EUREC4A_CloudClassification/notebooks'"
      ]
     },
     "execution_count": 61,
     "metadata": {},
     "output_type": "execute_result"
    }
   ],
   "source": [
    "pwd"
   ]
  },
  {
   "cell_type": "code",
   "execution_count": 62,
   "metadata": {},
   "outputs": [
    {
     "name": "stdout",
     "output_type": "stream",
     "text": [
      "/Users/haukeschulz/anaconda3/bin/python\n"
     ]
    }
   ],
   "source": [
    "!which python"
   ]
  },
  {
   "cell_type": "markdown",
   "metadata": {},
   "source": [
    "## Atalante"
   ]
  },
  {
   "cell_type": "code",
   "execution_count": 63,
   "metadata": {},
   "outputs": [],
   "source": [
    "import pandas as pd\n",
    "import datetime as dt"
   ]
  },
  {
   "cell_type": "code",
   "execution_count": 64,
   "metadata": {},
   "outputs": [],
   "source": [
    "def date_parser(d):\n",
    "    print(d)\n",
    "    date = pd.datetime.strptime(d, '%Y-%m-%d %H:%M:%S')\n",
    "    return date"
   ]
  },
  {
   "cell_type": "code",
   "execution_count": 65,
   "metadata": {},
   "outputs": [],
   "source": [
    "df = pd.read_csv('/Users/haukeschulz/Downloads/atalante_traj_gosud3_2020.txt',\n",
    "                 delim_whitespace=True,\n",
    "                 names=['date', 'time', 'longitude', 'latitude', 'unknown1', 'unknown2', 'unknown3'],\n",
    "                 parse_dates=False\n",
    "                )"
   ]
  },
  {
   "cell_type": "code",
   "execution_count": 66,
   "metadata": {},
   "outputs": [],
   "source": [
    "times = pd.to_datetime(df.date + ' ' + df.time, format='%Y-%m-%d %H:%M:%S')\n",
    "df.set_index(times, inplace=True)\n",
    "# and maybe for cleanup\n",
    "df = df.drop(['date','time'], axis=1)"
   ]
  },
  {
   "cell_type": "code",
   "execution_count": 67,
   "metadata": {},
   "outputs": [],
   "source": [
    "df_atalante_daily = df.resample('1D').mean()"
   ]
  },
  {
   "cell_type": "code",
   "execution_count": 68,
   "metadata": {},
   "outputs": [
    {
     "data": {
      "text/plain": [
       "[<matplotlib.lines.Line2D at 0x11857bef0>]"
      ]
     },
     "execution_count": 68,
     "metadata": {},
     "output_type": "execute_result"
    },
    {
     "data": {
      "image/png": "[encoded data removed]",
      "text/plain": [
       "<Figure size 432x288 with 1 Axes>"
      ]
     },
     "metadata": {
      "needs_background": "light"
     },
     "output_type": "display_data"
    }
   ],
   "source": [
    "plt.plot(df.longitude, df.latitude)"
   ]
  },
  {
   "cell_type": "code",
   "execution_count": 69,
   "metadata": {},
   "outputs": [],
   "source": [
    "ds_atalante_daily = xr.Dataset.from_dataframe(df_atalante_daily)"
   ]
  },
  {
   "cell_type": "code",
   "execution_count": 70,
   "metadata": {},
   "outputs": [
    {
     "data": {
      "image/png": "[encoded data removed]",
      "text/plain": [
       "<Figure size 576x108 with 1 Axes>"
      ]
     },
     "metadata": {
      "needs_background": "light"
     },
     "output_type": "display_data"
    }
   ],
   "source": [
    "frequency = np.zeros((len(ds.date)))\n",
    "\n",
    "fig, ax = plt.subplots(figsize=(8,1.5))\n",
    "\n",
    "for d, date in enumerate(ds_atalante_daily.sel(index=slice(dt.datetime(2020,1,20),dt.datetime(2020,2,18))).index):\n",
    "    frequency = 0\n",
    "    lat = ds_atalante_daily.latitude.sel(index=date)\n",
    "    lon = ds_atalante_daily.longitude.sel(index=date)\n",
    "    if np.isnan(lat) or np.isnan(lon):\n",
    "        print('Position contains nan on {}'.format(date.values))\n",
    "        continue\n",
    "    for p in ['Sugar', 'Gravel', 'Fish', 'Flowers']:\n",
    "        try:\n",
    "            data = ds.freq.sel(date=date, pattern=p).interp(coords={'latitude':lat, 'longitude':lon}, kwargs={'bounds_error':True}).values *100\n",
    "        except KeyError:\n",
    "            print('No data found for date {}'.format(date.values))\n",
    "            break\n",
    "        except ValueError:\n",
    "            print('Platform is outside of domain on {}: {},{}'.format(date.values, lat.values, lon.values))\n",
    "            break\n",
    "        if np.isnan(data):\n",
    "            data = 0\n",
    "        ax.bar(dates.date2num(date), data, label=p, bottom=frequency, color=color_dict[p])\n",
    "        hfmt = dates.DateFormatter('%d.%m')\n",
    "        ax.xaxis.set_major_locator(dates.DayLocator(interval=5))\n",
    "        ax.xaxis.set_major_formatter(hfmt)\n",
    "        frequency += data\n",
    "    if d == 0:\n",
    "        plt.legend(frameon=False, bbox_to_anchor=(1,1))\n",
    "plt.xlabel('date')\n",
    "plt.ylabel('classification (%)')\n",
    "plt.xlim(dt.datetime(2020,1,6), dt.datetime(2020,2,23))\n",
    "plt.savefig(outdir+'ManualClassification_Atalante_{}.pdf'.format(workflow),bbox_inches='tight')"
   ]
  },
  {
   "cell_type": "code",
   "execution_count": 71,
   "metadata": {},
   "outputs": [
    {
     "data": {
      "text/plain": [
       "<xarray.Dataset>\n",
       "Dimensions:    (index: 30)\n",
       "Coordinates:\n",
       "  * index      (index) datetime64[ns] 2020-01-20 2020-01-21 ... 2020-02-18\n",
       "Data variables:\n",
       "    longitude  (index) float64 -61.46 -60.21 -59.33 ... -58.84 -59.7 -60.38\n",
       "    latitude   (index) float64 16.07 14.29 13.04 12.23 ... 11.7 12.6 13.18 14.28\n",
       "    unknown1   (index) float64 34.3 35.99 35.79 35.46 ... 35.85 35.72 35.76\n",
       "    unknown2   (index) float64 27.49 27.28 27.32 27.42 ... 27.05 27.04 27.08\n",
       "    unknown3   (index) float64 27.67 27.62 27.65 27.74 ... 27.39 27.37 27.42"
      ]
     },
     "execution_count": 71,
     "metadata": {},
     "output_type": "execute_result"
    }
   ],
   "source": [
    "ds_atalante_daily.sel(index=slice(dt.datetime(2020,1,20),dt.datetime(2020,2,18)))"
   ]
  },
  {
   "cell_type": "code",
   "execution_count": 20,
   "metadata": {},
   "outputs": [
    {
     "data": {
      "text/plain": [
       "<xarray.DataArray 'latitude' ()>\n",
       "array(6.4941089595375745)"
      ]
     },
     "execution_count": 20,
     "metadata": {},
     "output_type": "execute_result"
    }
   ],
   "source": [
    "ds_atalante_daily.sel(index=slice(dt.datetime(2020,1,7),dt.datetime(2020,2,22))).latitude.min()"
   ]
  }
 ],
 "metadata": {
  "kernelspec": {
   "display_name": "Python [conda env:root] *",
   "language": "python",
   "name": "conda-root-py"
  },
  "language_info": {
   "codemirror_mode": {
    "name": "ipython",
    "version": 3
   },
   "file_extension": ".py",
   "mimetype": "text/x-python",
   "name": "python",
   "nbconvert_exporter": "python",
   "pygments_lexer": "ipython3",
   "version": "3.6.7"
  }
 },
 "nbformat": 4,
 "nbformat_minor": 4
}
