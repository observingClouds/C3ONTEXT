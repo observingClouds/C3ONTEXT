{
 "cells": [
  {
   "cell_type": "markdown",
   "metadata": {},
   "source": [
    "# Dataset overview\n",
    "Gather basic values to characterize dataset and visualize them as Figure 2 in the manuscript."
   ]
  },
  {
   "cell_type": "code",
   "execution_count": 1,
   "metadata": {},
   "outputs": [],
   "source": [
    "import glob\n",
    "import numpy as np\n",
    "import xarray as xr\n",
    "import matplotlib.pyplot as plt\n",
    "import seaborn as sns"
   ]
  },
  {
   "cell_type": "code",
   "execution_count": 2,
   "metadata": {},
   "outputs": [],
   "source": [
    "savefig = False  # Switch for writing figures to disk"
   ]
  },
  {
   "cell_type": "code",
   "execution_count": 3,
   "metadata": {},
   "outputs": [],
   "source": [
    "level1_dataset_local = '../processed_data/EUREC4A_ManualClassifications_l1_anonymized.nc'\n",
    "level1_dataset_zenodo = 'https://zenodo.org/api/files/994b37c9-2c3c-4d3b-add2-ee149093a0f7/EUREC4A_ManualCloudClassification_l1.zip'\n",
    "color_dict = {'Fish':'#2281BB', 'Flowers': '#93D2E2', 'Gravel': '#3EAE47','Sugar': '#A1D791'}"
   ]
  },
  {
   "cell_type": "code",
   "execution_count": 4,
   "metadata": {},
   "outputs": [],
   "source": [
    "try:\n",
    "    # Try to find file locally\n",
    "    ds_l1 = xr.open_dataset(level1_dataset_local)\n",
    "except (KeyError, FileNotFoundError):\n",
    "    # Retrieve file from zenodo archive\n",
    "    import minato\n",
    "    from io import BytesIO\n",
    "    import zipfile\n",
    "    lf = minato.cached_path(f\"{level1_dataset_zenodo}\")  # Download file\n",
    "    z=zipfile.ZipFile(lf.as_posix())  # Open zip\n",
    "    b=BytesIO(z.read('processed_data/EUREC4A_ManualClassifications_l1_anonymized.nc')) # Unzip\n",
    "    ds_l1 = xr.open_dataset(b, engine='h5netcdf')"
   ]
  },
  {
   "cell_type": "code",
   "execution_count": 5,
   "metadata": {},
   "outputs": [],
   "source": [
    "# Remove none labels\n",
    "labels = [str(l.values).replace('Flower', 'Flowers') for l in ds_l1.tool_label]\n",
    "instrument = [str(l.values) for l in ds_l1.instrument]\n",
    "workflow = [str(l.values) for l in ds_l1.workflow_name]\n",
    "ds_l1.tool_label.values = labels\n",
    "ds_l1.instrument.values = instrument\n",
    "ds_l1.workflow_name.values = workflow"
   ]
  },
  {
   "cell_type": "code",
   "execution_count": 6,
   "metadata": {},
   "outputs": [],
   "source": [
    "label_mask = ~(ds_l1.tool_label.values == '')"
   ]
  },
  {
   "cell_type": "code",
   "execution_count": 7,
   "metadata": {},
   "outputs": [
    {
     "name": "stdout",
     "output_type": "stream",
     "text": [
      "Empty labels: 2731\n"
     ]
    }
   ],
   "source": [
    "print('Empty labels:', len(ds_l1.tool_label.values) - np.sum(label_mask))"
   ]
  },
  {
   "cell_type": "code",
   "execution_count": 8,
   "metadata": {},
   "outputs": [],
   "source": [
    "ds_l1_woempty = ds_l1.isel(index=label_mask)"
   ]
  },
  {
   "cell_type": "code",
   "execution_count": 9,
   "metadata": {},
   "outputs": [
    {
     "name": "stdout",
     "output_type": "stream",
     "text": [
      "EUREC4A (ICON; albedo) 369 22\n",
      "Fish 444\n",
      "Flowers 287\n",
      "Gravel 423\n",
      "Sugar 65\n",
      "EUREC4A (IR) 548 27\n",
      "Fish 658\n",
      "Flowers 917\n",
      "Gravel 1138\n",
      "Sugar 1480\n",
      "EUREC4A (VIS) 234 40\n",
      "Fish 992\n",
      "Flowers 818\n",
      "Gravel 1758\n",
      "Sugar 1413\n",
      "EUREC4A (VIS) 94 39\n",
      "Fish 405\n",
      "Flowers 452\n",
      "Gravel 613\n",
      "Sugar 709\n"
     ]
    }
   ],
   "source": [
    "basic_numbers_dict = {}\n",
    "\n",
    "# Totals:\n",
    "basic_numbers_dict['global'] = {}\n",
    "basic_numbers_dict['global']['Classifications'] = len(np.unique(ds_l1_woempty.classification_id))\n",
    "basic_numbers_dict['global']['Labels'] = len(ds_l1_woempty.tool_label)\n",
    "basic_numbers_dict['global']['Users'] = len(np.unique(ds_l1_woempty.user_id))\n",
    "\n",
    "for workflow, grp in ds_l1_woempty.groupby(ds_l1_woempty.workflow_name):\n",
    "    for instrument, grp_inst in grp.groupby(grp.instrument):\n",
    "        print(workflow, len(np.unique(grp_inst.subject_ids)), len(np.unique(grp_inst.user_id)))\n",
    "        basic_numbers_dict['_'.join([workflow,instrument])] = {'subject_nb':len(np.unique(grp_inst.subject_ids)),\n",
    "                                        'user_nb': len(np.unique(grp_inst.user_id)),\n",
    "                                        'classification_nb': len(np.unique(grp_inst.classification_id)),\n",
    "                                        'label_nb': len(grp_inst.classification_id),\n",
    "                                        'instrument': instrument\n",
    "                                       }\n",
    "        for label, grp_label in grp_inst.groupby(grp_inst.tool_label):\n",
    "            print(label, len(grp_label.classification_id))\n",
    "            basic_numbers_dict['_'.join([workflow,instrument])][label] = len(grp_label.classification_id)"
   ]
  },
  {
   "cell_type": "code",
   "execution_count": 10,
   "metadata": {},
   "outputs": [],
   "source": [
    "labels = [str(l.values) for l in grp.tool_label]"
   ]
  },
  {
   "cell_type": "code",
   "execution_count": 11,
   "metadata": {},
   "outputs": [
    {
     "data": {
      "image/png": "[encoded data removed]",
      "text/plain": [
       "<Figure size 432x288 with 1 Axes>"
      ]
     },
     "metadata": {
      "needs_background": "light"
     },
     "output_type": "display_data"
    }
   ],
   "source": [
    "v = np.zeros((4))\n",
    "v_ = np.zeros((4))\n",
    "workflows = []\n",
    "workflows = [r'ICON $\\alpha$', 'GOES IR', 'GOES VIS', 'MODIS VIS']\n",
    "for label in ['Fish', 'Flowers', 'Gravel', 'Sugar']:\n",
    "    w = 0\n",
    "    for workflow, workflow_dict in basic_numbers_dict.items():\n",
    "        if workflow == 'global': continue\n",
    "        if 'liquid' in workflow: continue\n",
    "        total_label_nb = workflow_dict['label_nb']\n",
    "        v_[w] = workflow_dict[label]#/total_label_nb*100\n",
    "        w+=1\n",
    "        if label == 'Fish':\n",
    "#             workflows.append(workflow)\n",
    "            plt.text(w-1,5200, total_label_nb, horizontalalignment='center')\n",
    "    \n",
    "    plt.bar(workflows, v_, bottom=v, orientation='vertical', color=color_dict[label], label=label)\n",
    "    v += v_\n",
    "plt.legend(frameon=False, bbox_to_anchor=(1,1), loc='upper left')\n",
    "# plt.ylabel('% labels');\n",
    "plt.ylabel('# labels');\n",
    "sns.despine()\n",
    "if savefig:\n",
    "    plt.savefig('../figures/overview_labels.pdf',bbox_inches='tight')"
   ]
  },
  {
   "cell_type": "code",
   "execution_count": 12,
   "metadata": {},
   "outputs": [
    {
     "data": {
      "image/png": "[encoded data removed]",
      "text/plain": [
       "<Figure size 432x288 with 1 Axes>"
      ]
     },
     "metadata": {
      "needs_background": "light"
     },
     "output_type": "display_data"
    }
   ],
   "source": [
    "v = np.zeros((4))\n",
    "v_ = np.zeros((4))\n",
    "workflows = []\n",
    "workflows = [r'ICON $\\alpha$', 'GOES IR', 'GOES VIS', 'MODIS VIS']\n",
    "for label in ['Fish', 'Flowers', 'Gravel', 'Sugar'][::-1]:\n",
    "    w = 0\n",
    "    for workflow, workflow_dict in basic_numbers_dict.items():\n",
    "        if workflow == 'global': continue\n",
    "        if 'liquid' in workflow: continue\n",
    "        total_label_nb = workflow_dict['label_nb']\n",
    "        v_[w] = workflow_dict[label]/total_label_nb*100\n",
    "        w+=1\n",
    "        if label == 'Fish':\n",
    "#             workflows.append(workflow)\n",
    "            plt.text(w-1,105, total_label_nb, horizontalalignment='center')\n",
    "        plt.text(w-1,v[w-1]+v_[w-1]/2,\n",
    "                 workflow_dict[label],\n",
    "                 verticalalignment='center',\n",
    "                 horizontalalignment='center',color='black')\n",
    "    \n",
    "    plt.bar(workflows, v_, bottom=v, orientation='vertical', color=color_dict[label], label=label)\n",
    "    v += v_\n",
    "plt.legend(frameon=False, bbox_to_anchor=(1,1), loc='upper left')\n",
    "# plt.ylabel('% labels');\n",
    "plt.ylabel('distribution of labels / %');\n",
    "sns.despine()\n",
    "if savefig:\n",
    "    plt.savefig('../figures/overview_labels_relative.pdf',bbox_inches='tight')"
   ]
  },
  {
   "cell_type": "code",
   "execution_count": 13,
   "metadata": {},
   "outputs": [
    {
     "name": "stdout",
     "output_type": "stream",
     "text": [
      "EUREC4A (ICON; albedo) (n/a): viewing average: 2.8 participants\n",
      "EUREC4A (IR) (ABI): viewing average: 6.4 participants\n",
      "EUREC4A (VIS) (ABI): viewing average: 15.2 participants\n",
      "EUREC4A (VIS) (MODIS): viewing average: 15.2 participants\n"
     ]
    }
   ],
   "source": [
    "basic_numbers_dict = {}\n",
    "\n",
    "# Totals:\n",
    "basic_numbers_dict['global'] = {}\n",
    "basic_numbers_dict['global']['Classifications'] = len(np.unique(ds_l1.classification_id))\n",
    "basic_numbers_dict['global']['Labels'] = len(ds_l1.tool_label)\n",
    "basic_numbers_dict['global']['Users'] = len(np.unique(ds_l1.user_id))\n",
    "\n",
    "for workflow, grp in ds_l1.groupby(ds_l1.workflow_name):\n",
    "    for instrument, grp_inst in grp.groupby(grp.instrument):\n",
    "        views = []\n",
    "        for sbj, g in grp.groupby('subject_ids'):\n",
    "            views.append(len(np.unique(g.classification_id)))\n",
    "        print('{} ({}): viewing average: {} participants'.format(workflow, instrument, np.round(np.mean(views),1)))"
   ]
  }
 ],
 "metadata": {
  "kernelspec": {
   "display_name": "c3ontext",
   "language": "python",
   "name": "c3ontext"
  },
  "language_info": {
   "codemirror_mode": {
    "name": "ipython",
    "version": 3
   },
   "file_extension": ".py",
   "mimetype": "text/x-python",
   "name": "python",
   "nbconvert_exporter": "python",
   "pygments_lexer": "ipython3",
   "version": "3.8.12"
  }
 },
 "nbformat": 4,
 "nbformat_minor": 4
}
