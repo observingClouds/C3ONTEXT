{
 "cells": [
  {
   "cell_type": "markdown",
   "metadata": {},
   "source": [
    "# EUREC4A platforms and the meso-scale organization\n",
    "This notebook illustrates how the Level3 data can be used to put the wide-range of research platforms into context of the meso-scale organization. Depending on their track and location, the meso-scale organization they were situated in varied.\n",
    "\n",
    "The timeseries of RV Meteor, Barbados Cloud Observatory and RV Atalante are shown below and can be easily adapted for other platforms.\n",
    "\n",
    "Note: On mistral, this script needs to be executed on resources with internet access."
   ]
  },
  {
   "cell_type": "code",
   "execution_count": 1,
   "metadata": {},
   "outputs": [],
   "source": [
    "import os\n",
    "import numpy as np\n",
    "import xarray as xr\n",
    "import matplotlib.pyplot as plt\n",
    "from matplotlib import dates\n",
    "import datetime as dt\n",
    "import seaborn as sns\n",
    "from intake import open_catalog\n",
    "from pandas.plotting import register_matplotlib_converters\n",
    "register_matplotlib_converters()"
   ]
  },
  {
   "cell_type": "code",
   "execution_count": 2,
   "metadata": {},
   "outputs": [],
   "source": [
    "from intake import open_catalog"
   ]
  },
  {
   "cell_type": "code",
   "execution_count": 3,
   "metadata": {},
   "outputs": [],
   "source": [
    "cat = open_catalog(\"https://raw.githubusercontent.com/eurec4a/eurec4a-intake/master/catalog.yml\")"
   ]
  },
  {
   "cell_type": "code",
   "execution_count": 4,
   "metadata": {},
   "outputs": [],
   "source": [
    "# Workflow as given in l3 output\n",
    "workflow = 'IR'\n",
    "mode = 'daily'\n",
    "\n",
    "# Level3 filename (input)\n",
    "level3_file_local = '../processed_data/EUREC4A_ManualClassifications_l3_{workflow}_{mode}.zarr'.format(workflow=workflow, mode=mode)\n",
    "level3_file_zenodo = 'https://zenodo.org/api/files/994b37c9-2c3c-4d3b-add2-ee149093a0f7/EUREC4A_ManualCloudClassification_l3_{workflow}_{mode}.zip'.format(workflow=workflow, mode=mode)\n",
    "\n",
    "# Figure directory (output)\n",
    "savefig = False  # Switch for writing figures to disk\n",
    "outdir = '../figures/'"
   ]
  },
  {
   "cell_type": "code",
   "execution_count": 5,
   "metadata": {},
   "outputs": [],
   "source": [
    "if os.path.exists(level3_file_local):\n",
    "    ds = xr.open_zarr(level3_file_local)\n",
    "else:\n",
    "    try:\n",
    "        # IPFS\n",
    "        ds = cat.c3ontext[f'level3_{workflow}_{mode}'].to_dask()\n",
    "    except:\n",
    "        # Zenodo\n",
    "        ds = xr.open_zarr(f\"zip://processed_data/EUREC4A_ManualClassifications_l3_{workflow}_{mode}.zarr::{level3_file_zenodo}\")"
   ]
  },
  {
   "cell_type": "code",
   "execution_count": 6,
   "metadata": {},
   "outputs": [],
   "source": [
    "color_dict = {'Fish':'#2281BB',\n",
    "              'Flowers': '#93D2E2',\n",
    "              'Gravel': '#3EAE47',\n",
    "              'Sugar': '#A1D791',\n",
    "              'Unclassified': 'lightgrey'\n",
    "             }"
   ]
  },
  {
   "cell_type": "markdown",
   "metadata": {},
   "source": [
    "## Classifications at stationary position"
   ]
  },
  {
   "cell_type": "code",
   "execution_count": 7,
   "metadata": {},
   "outputs": [],
   "source": [
    "if mode == 'daily':\n",
    "    data = ds.freq.sel(latitude=13.1626389, longitude=-059.4287500, method='nearest')\n",
    "    data2 = data\n",
    "elif mode =='instant':\n",
    "    data=(ds.freq.sel(latitude=13.1626389, longitude=-059.4287500, method='nearest') * ds.nb_users).groupby(ds.date.dt.date).mean().compute()\n",
    "    data2 = data/ds.nb_users.groupby(ds.date.dt.date).mean().compute()"
   ]
  },
  {
   "cell_type": "code",
   "execution_count": 8,
   "metadata": {},
   "outputs": [
    {
     "data": {
      "image/png": "[encoded data removed]",
      "text/plain": [
       "<Figure size 576x108 with 1 Axes>"
      ]
     },
     "metadata": {
      "needs_background": "light"
     },
     "output_type": "display_data"
    }
   ],
   "source": [
    "frequency = np.zeros((len(data2.date)))\n",
    "\n",
    "fig, ax = plt.subplots(figsize=(8,1.5))\n",
    "\n",
    "for p in ['Sugar', 'Gravel', 'Flowers', 'Fish', 'Unclassified']:\n",
    "    data_ = data2.sel(pattern=p).values *100\n",
    "    data_[np.isnan(data_)] = 0\n",
    "    ax.bar(dates.date2num(data.date), data_, label=p, bottom=frequency, color=color_dict[p])\n",
    "    frequency += data_\n",
    "    hfmt = dates.DateFormatter('%d.%m')\n",
    "    ax.xaxis.set_major_locator(dates.DayLocator(interval=5))\n",
    "    ax.xaxis.set_major_formatter(hfmt)\n",
    "plt.legend(frameon=False, bbox_to_anchor=(1,1))\n",
    "plt.xlabel('date')\n",
    "plt.ylabel('agreement / %')\n",
    "plt.xlim(dt.datetime(2020,1,6), dt.datetime(2020,2,23))\n",
    "sns.despine()\n",
    "if savefig:\n",
    "    plt.savefig(outdir+'ManualClassification_BCO_{}_{}.pdf'.format(workflow,mode),bbox_inches='tight')"
   ]
  },
  {
   "cell_type": "markdown",
   "metadata": {},
   "source": [
    "## Classifications along trajectory"
   ]
  },
  {
   "cell_type": "code",
   "execution_count": 9,
   "metadata": {},
   "outputs": [],
   "source": [
    "#!pip install -e git://github.com/eurec4a/pyeurec4a.git@v0.0.3#egg=eurec4a\n",
    "# import sys\n",
    "# sys.path.append(\"./src/eurec4a\")\n",
    "import eurec4a\n",
    "import ipfsspec\n",
    "cat = eurec4a.get_intake_catalog(use_ipfs=True)"
   ]
  },
  {
   "cell_type": "code",
   "execution_count": 10,
   "metadata": {},
   "outputs": [],
   "source": [
    "if mode == 'daily':\n",
    "    ds_classifications_daily = ds.freq\n",
    "elif mode =='instant':\n",
    "    ds_classifications_daily = (ds.freq * ds.nb_users).groupby(ds.date.dt.date).mean() / ds.nb_users.groupby(ds.date.dt.date).mean()"
   ]
  },
  {
   "cell_type": "markdown",
   "metadata": {},
   "source": [
    "### Meteor"
   ]
  },
  {
   "cell_type": "code",
   "execution_count": 11,
   "metadata": {},
   "outputs": [],
   "source": [
    "trajectory = cat.Meteor.track.to_dask()\n",
    "trajectory_daily = trajectory.resample(time='1D').mean() # Attention, only works as long as the equator and 0 meridian are not crossed"
   ]
  },
  {
   "cell_type": "code",
   "execution_count": 12,
   "metadata": {},
   "outputs": [
    {
     "data": {
      "image/png": "[encoded data removed]",
      "text/plain": [
       "<Figure size 576x108 with 1 Axes>"
      ]
     },
     "metadata": {
      "needs_background": "light"
     },
     "output_type": "display_data"
    }
   ],
   "source": [
    "frequency = np.zeros((len(ds.date)))\n",
    "\n",
    "fig, ax = plt.subplots(figsize=(8,1.5))\n",
    "\n",
    "for d, date in enumerate(trajectory_daily.time):\n",
    "    frequency = 0\n",
    "    lat = trajectory_daily.lat.sel(time=date)\n",
    "    lon = trajectory_daily.lon.sel(time=date)\n",
    "    if mode == 'daily':\n",
    "        date_to_sel = date\n",
    "    elif mode =='instant':\n",
    "        date_to_sel = date.dt.date\n",
    "    for p in ['Sugar', 'Gravel', 'Flowers', 'Fish', 'Unclassified']:\n",
    "        try:\n",
    "            data = ds_classifications_daily.sel(latitude=lat, longitude=lon, method='nearest').sel(date=date_to_sel, pattern=p).values *100\n",
    "        except KeyError:\n",
    "            print('No data found for date {}'.format(date))\n",
    "            break\n",
    "        if np.isnan(data):\n",
    "            data = 0\n",
    "        ax.bar(dates.date2num(date), data, label=p, bottom=frequency, color=color_dict[p])\n",
    "        hfmt = dates.DateFormatter('%d.%m')\n",
    "        ax.xaxis.set_major_locator(dates.DayLocator(interval=5))\n",
    "        ax.xaxis.set_major_formatter(hfmt)\n",
    "        frequency += data\n",
    "    if d == 0:\n",
    "        plt.legend(frameon=False, bbox_to_anchor=(1,1))\n",
    "plt.xlabel('date')\n",
    "plt.ylabel('agreement / %')\n",
    "plt.xlim(dt.datetime(2020,1,6), dt.datetime(2020,2,23))\n",
    "sns.despine()\n",
    "if savefig:\n",
    "    plt.savefig(outdir+'ManualClassification_Meteor_{}_{}.pdf'.format(workflow, mode),bbox_inches='tight')\n",
    "    plt.savefig(outdir+'ManualClassification_Meteor_{}_{}.png'.format(workflow, mode),bbox_inches='tight')"
   ]
  },
  {
   "cell_type": "markdown",
   "metadata": {},
   "source": [
    "## Atalante"
   ]
  },
  {
   "cell_type": "code",
   "execution_count": 13,
   "metadata": {},
   "outputs": [],
   "source": [
    "trajectory = cat.Atalante.track.to_dask()\n",
    "trajectory_daily = trajectory.resample(time='1D').mean() # Attention, only works as long as the equator and 0 meridian are not crossed"
   ]
  },
  {
   "cell_type": "code",
   "execution_count": 14,
   "metadata": {},
   "outputs": [
    {
     "data": {
      "image/png": "[encoded data removed]",
      "text/plain": [
       "<Figure size 576x108 with 1 Axes>"
      ]
     },
     "metadata": {
      "needs_background": "light"
     },
     "output_type": "display_data"
    }
   ],
   "source": [
    "frequency = np.zeros((len(ds.date)))\n",
    "\n",
    "fig, ax = plt.subplots(figsize=(8,1.5))\n",
    "\n",
    "for d, date in enumerate(trajectory_daily.time):\n",
    "    frequency = 0\n",
    "    lat = trajectory_daily.lat.sel(time=date)\n",
    "    lon = trajectory_daily.lon.sel(time=date)\n",
    "    if mode == 'daily':\n",
    "        date_to_sel = date\n",
    "    elif mode =='instant':\n",
    "        date_to_sel = date.dt.date\n",
    "    for p in ['Sugar', 'Gravel', 'Flowers', 'Fish', 'Unclassified']:\n",
    "        try:\n",
    "            data = ds_classifications_daily.sel(latitude=lat, longitude=lon, method='nearest').sel(date=date_to_sel, pattern=p).values *100\n",
    "        except KeyError:\n",
    "            print('No data found for date {}'.format(date))\n",
    "            break\n",
    "        if np.isnan(data):\n",
    "            data = 0\n",
    "        ax.bar(dates.date2num(date), data, label=p, bottom=frequency, color=color_dict[p])\n",
    "        hfmt = dates.DateFormatter('%d.%m')\n",
    "        ax.xaxis.set_major_locator(dates.DayLocator(interval=5))\n",
    "        ax.xaxis.set_major_formatter(hfmt)\n",
    "        frequency += data\n",
    "    if d == 0:\n",
    "        plt.legend(frameon=False, bbox_to_anchor=(1,1))\n",
    "plt.xlabel('date')\n",
    "plt.ylabel('agreement / %')\n",
    "plt.xlim(dt.datetime(2020,1,6), dt.datetime(2020,2,23))\n",
    "sns.despine()\n",
    "if savefig:\n",
    "    plt.savefig(outdir+'ManualClassification_Atalante_{}_{}.pdf'.format(workflow, mode),bbox_inches='tight')"
   ]
  }
 ],
 "metadata": {
  "kernelspec": {
   "display_name": "c3ontext",
   "language": "python",
   "name": "c3ontext"
  },
  "language_info": {
   "codemirror_mode": {
    "name": "ipython",
    "version": 3
   },
   "file_extension": ".py",
   "mimetype": "text/x-python",
   "name": "python",
   "nbconvert_exporter": "python",
   "pygments_lexer": "ipython3",
   "version": "3.8.12"
  }
 },
 "nbformat": 4,
 "nbformat_minor": 4
}
