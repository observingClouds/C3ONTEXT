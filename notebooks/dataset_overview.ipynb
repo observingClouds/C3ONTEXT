{
 "cells": [
  {
   "cell_type": "markdown",
   "metadata": {},
   "source": [
    "# Dataset overview\n",
    "Gather basic values to characterize dataset"
   ]
  },
  {
   "cell_type": "code",
   "execution_count": 2,
   "metadata": {},
   "outputs": [
    {
     "name": "stdout",
     "output_type": "stream",
     "text": [
      "/Users/haukeschulz/anaconda3/bin/python\n"
     ]
    }
   ],
   "source": [
    "!which python"
   ]
  },
  {
   "cell_type": "code",
   "execution_count": 3,
   "metadata": {},
   "outputs": [
    {
     "data": {
      "text/plain": [
       "'/Users/haukeschulz/Documents/EUREC4A/EUREC4A_CloudClassification/notebooks'"
      ]
     },
     "execution_count": 3,
     "metadata": {},
     "output_type": "execute_result"
    }
   ],
   "source": [
    "pwd"
   ]
  },
  {
   "cell_type": "code",
   "execution_count": 4,
   "metadata": {},
   "outputs": [],
   "source": [
    "import glob\n",
    "import numpy as np\n",
    "import xarray as xr\n",
    "import matplotlib.pyplot as plt\n",
    "import seaborn as sns"
   ]
  },
  {
   "cell_type": "code",
   "execution_count": 5,
   "metadata": {},
   "outputs": [],
   "source": [
    "level1_dataset = '../processed_data/EUREC4A_ManualClassifications_l1.nc'"
   ]
  },
  {
   "cell_type": "code",
   "execution_count": 6,
   "metadata": {},
   "outputs": [],
   "source": [
    "color_dict = {'Flowers':'#2281BB', 'Fish': '#93D2E2', 'Gravel': '#3EAE47','Sugar': '#A1D791'}"
   ]
  },
  {
   "cell_type": "code",
   "execution_count": 7,
   "metadata": {},
   "outputs": [],
   "source": [
    "ds_l1 = xr.open_dataset(level1_dataset)"
   ]
  },
  {
   "cell_type": "code",
   "execution_count": 8,
   "metadata": {},
   "outputs": [
    {
     "data": {
      "text/plain": [
       "<xarray.Dataset>\n",
       "Dimensions:            (index: 16184)\n",
       "Coordinates:\n",
       "  * index              (index) int64 0 1 2 3 4 ... 16179 16180 16181 16182 16183\n",
       "Data variables:\n",
       "    classification_id  (index) int64 ...\n",
       "    user_name          (index) object ...\n",
       "    user_id            (index) float64 ...\n",
       "    workflow_id        (index) int64 ...\n",
       "    workflow_name      (index) object ...\n",
       "    created_at         (index) object ...\n",
       "    subject_ids        (index) int64 ...\n",
       "    fn                 (index) object ...\n",
       "    x                  (index) float64 ...\n",
       "    y                  (index) float64 ...\n",
       "    width              (index) float64 ...\n",
       "    height             (index) float64 ...\n",
       "    tool_label         (index) object ...\n",
       "    started_at         (index) datetime64[ns] ...\n",
       "    finished_at        (index) datetime64[ns] ...\n",
       "    already_seen       (index) bool ...\n",
       "    date               (index) datetime64[ns] ...\n",
       "    init_date          (index) datetime64[ns] ...\n",
       "    instrument         (index) object ...\n",
       "    lon0               (index) float64 ...\n",
       "    lat0               (index) float64 ...\n",
       "    lon1               (index) float64 ...\n",
       "    lat1               (index) float64 ...\n",
       "Attributes:\n",
       "    title:           EUREC4A: manual meso-scale cloud pattern classifications\n",
       "    description:     Level-1: restructured enhanced raw data\n",
       "    author:          Hauke Schulz (hauke.schulz@mpimet.mpg.de)\n",
       "    created_on:      2020-04-08 01:47 UTC\n",
       "    created_with:    create_level1.py with its last modification on Wed Apr  ...\n",
       "    creation_date:   Wed Apr  8 01:47:37 2020\n",
       "    python_version:  3.6.7 | packaged by conda-forge | (default, Jul  2 2019,...\n",
       "    doi:             not yet set"
      ]
     },
     "execution_count": 8,
     "metadata": {},
     "output_type": "execute_result"
    }
   ],
   "source": [
    "ds_l1"
   ]
  },
  {
   "cell_type": "code",
   "execution_count": 9,
   "metadata": {},
   "outputs": [],
   "source": [
    "# Remove none labels\n",
    "labels = [str(l.values).replace('Flower', 'Flowers') for l in ds_l1.tool_label]\n",
    "instrument = [str(l.values) for l in ds_l1.instrument]\n",
    "workflow = [str(l.values) for l in ds_l1.workflow_name]\n",
    "ds_l1.tool_label.values = labels\n",
    "ds_l1.instrument.values = instrument\n",
    "ds_l1.workflow_name.values = workflow"
   ]
  },
  {
   "cell_type": "code",
   "execution_count": 7,
   "metadata": {},
   "outputs": [],
   "source": [
    "label_mask = ~(ds_l1.tool_label.values == '')"
   ]
  },
  {
   "cell_type": "code",
   "execution_count": 8,
   "metadata": {},
   "outputs": [
    {
     "name": "stdout",
     "output_type": "stream",
     "text": [
      "Empty labels: 2969\n"
     ]
    }
   ],
   "source": [
    "print('Empty labels:', len(ds_l1.tool_label.values) - np.sum(label_mask))"
   ]
  },
  {
   "cell_type": "code",
   "execution_count": 9,
   "metadata": {},
   "outputs": [],
   "source": [
    "ds_l1_woempty = ds_l1.isel(index=label_mask)"
   ]
  },
  {
   "cell_type": "code",
   "execution_count": 10,
   "metadata": {},
   "outputs": [
    {
     "name": "stdout",
     "output_type": "stream",
     "text": [
      "EUREC4A (ICON; albedo) 369 22\n",
      "Fish 444\n",
      "Flowers 287\n",
      "Gravel 423\n",
      "Sugar 65\n",
      "EUREC4A (ICON; cloud liquid + ice) 296 12\n",
      "Fish 119\n",
      "Flowers 27\n",
      "Gravel 214\n",
      "Sugar 283\n",
      "EUREC4A (IR) 548 27\n",
      "Fish 658\n",
      "Flowers 917\n",
      "Gravel 1138\n",
      "Sugar 1480\n",
      "EUREC4A (VIS) 234 40\n",
      "Fish 992\n",
      "Flowers 818\n",
      "Gravel 1758\n",
      "Sugar 1413\n",
      "EUREC4A (VIS) 94 39\n",
      "Fish 405\n",
      "Flowers 452\n",
      "Gravel 613\n",
      "Sugar 709\n"
     ]
    }
   ],
   "source": [
    "basic_numbers_dict = {}\n",
    "\n",
    "# Totals:\n",
    "basic_numbers_dict['global'] = {}\n",
    "basic_numbers_dict['global']['Classifications'] = len(np.unique(ds_l1_woempty.classification_id))\n",
    "basic_numbers_dict['global']['Labels'] = len(ds_l1_woempty.tool_label)\n",
    "basic_numbers_dict['global']['Users'] = len(np.unique(ds_l1_woempty.user_name))\n",
    "\n",
    "for workflow, grp in ds_l1_woempty.groupby(ds_l1_woempty.workflow_name):\n",
    "    for instrument, grp_inst in grp.groupby(grp.instrument):\n",
    "        print(workflow, len(np.unique(grp_inst.subject_ids)), len(np.unique(grp_inst.user_name)))\n",
    "        basic_numbers_dict['_'.join([workflow,instrument])] = {'subject_nb':len(np.unique(grp_inst.subject_ids)),\n",
    "                                        'user_nb': len(np.unique(grp_inst.user_name)),\n",
    "                                        'classification_nb': len(np.unique(grp_inst.classification_id)),\n",
    "                                        'label_nb': len(grp_inst.classification_id),\n",
    "                                        'instrument': instrument\n",
    "                                       }\n",
    "        for label, grp_label in grp_inst.groupby(grp_inst.tool_label):\n",
    "            print(label, len(grp_label.classification_id))\n",
    "            basic_numbers_dict['_'.join([workflow,instrument])][label] = len(grp_label.classification_id)"
   ]
  },
  {
   "cell_type": "code",
   "execution_count": 11,
   "metadata": {},
   "outputs": [
    {
     "data": {
      "text/plain": [
       "{'global': {'Classifications': 7419, 'Labels': 13215, 'Users': 51},\n",
       " 'EUREC4A (ICON; albedo)_n/a': {'subject_nb': 369,\n",
       "  'user_nb': 22,\n",
       "  'classification_nb': 674,\n",
       "  'label_nb': 1219,\n",
       "  'instrument': 'n/a',\n",
       "  'Fish': 444,\n",
       "  'Flowers': 287,\n",
       "  'Gravel': 423,\n",
       "  'Sugar': 65},\n",
       " 'EUREC4A (ICON; cloud liquid + ice)_': {'subject_nb': 296,\n",
       "  'user_nb': 12,\n",
       "  'classification_nb': 392,\n",
       "  'label_nb': 643,\n",
       "  'instrument': '',\n",
       "  'Fish': 119,\n",
       "  'Flowers': 27,\n",
       "  'Gravel': 214,\n",
       "  'Sugar': 283},\n",
       " 'EUREC4A (IR)_ABI': {'subject_nb': 548,\n",
       "  'user_nb': 27,\n",
       "  'classification_nb': 2525,\n",
       "  'label_nb': 4193,\n",
       "  'instrument': 'ABI',\n",
       "  'Fish': 658,\n",
       "  'Flowers': 917,\n",
       "  'Gravel': 1138,\n",
       "  'Sugar': 1480},\n",
       " 'EUREC4A (VIS)_ABI': {'subject_nb': 234,\n",
       "  'user_nb': 40,\n",
       "  'classification_nb': 2720,\n",
       "  'label_nb': 4981,\n",
       "  'instrument': 'ABI',\n",
       "  'Fish': 992,\n",
       "  'Flowers': 818,\n",
       "  'Gravel': 1758,\n",
       "  'Sugar': 1413},\n",
       " 'EUREC4A (VIS)_MODIS': {'subject_nb': 94,\n",
       "  'user_nb': 39,\n",
       "  'classification_nb': 1108,\n",
       "  'label_nb': 2179,\n",
       "  'instrument': 'MODIS',\n",
       "  'Fish': 405,\n",
       "  'Flowers': 452,\n",
       "  'Gravel': 613,\n",
       "  'Sugar': 709}}"
      ]
     },
     "execution_count": 11,
     "metadata": {},
     "output_type": "execute_result"
    }
   ],
   "source": [
    "basic_numbers_dict"
   ]
  },
  {
   "cell_type": "code",
   "execution_count": 12,
   "metadata": {},
   "outputs": [],
   "source": [
    "labels = [str(l.values) for l in grp.tool_label]"
   ]
  },
  {
   "cell_type": "code",
   "execution_count": 45,
   "metadata": {},
   "outputs": [
    {
     "data": {
      "image/png": "[encoded data removed]",
      "text/plain": [
       "<Figure size 432x288 with 1 Axes>"
      ]
     },
     "metadata": {
      "needs_background": "light"
     },
     "output_type": "display_data"
    }
   ],
   "source": [
    "v = np.zeros((4))\n",
    "v_ = np.zeros((4))\n",
    "workflows = []\n",
    "workflows = [r'ICON $\\alpha$', 'GOES IR', 'GOES VIS', 'MODIS VIS']\n",
    "for label in ['Fish', 'Flowers', 'Gravel', 'Sugar']:\n",
    "    w = 0\n",
    "    for workflow, workflow_dict in basic_numbers_dict.items():\n",
    "        if workflow == 'global': continue\n",
    "        if 'liquid' in workflow: continue\n",
    "        total_label_nb = workflow_dict['label_nb']\n",
    "        v_[w] = workflow_dict[label]#/total_label_nb*100\n",
    "        w+=1\n",
    "        if label == 'Fish':\n",
    "#             workflows.append(workflow)\n",
    "            plt.text(w-1,5200, total_label_nb, horizontalalignment='center')\n",
    "    \n",
    "    plt.bar(workflows, v_, bottom=v, orientation='vertical', color=color_dict[label], label=label)\n",
    "    v += v_\n",
    "plt.legend(frameon=False, bbox_to_anchor=(1,1), loc='upper left')\n",
    "# plt.ylabel('% labels');\n",
    "plt.ylabel('# labels');\n",
    "sns.despine()\n",
    "plt.savefig('../figures/overview_labels.pdf',bbox_inches='tight')"
   ]
  },
  {
   "cell_type": "code",
   "execution_count": 69,
   "metadata": {},
   "outputs": [
    {
     "data": {
      "image/png": "[encoded data removed]",
      "text/plain": [
       "<Figure size 432x288 with 1 Axes>"
      ]
     },
     "metadata": {
      "needs_background": "light"
     },
     "output_type": "display_data"
    }
   ],
   "source": [
    "v = np.zeros((4))\n",
    "v_ = np.zeros((4))\n",
    "workflows = []\n",
    "workflows = [r'ICON $\\alpha$', 'GOES IR', 'GOES VIS', 'MODIS VIS']\n",
    "for label in ['Fish', 'Flowers', 'Gravel', 'Sugar']:\n",
    "    w = 0\n",
    "    for workflow, workflow_dict in basic_numbers_dict.items():\n",
    "        if workflow == 'global': continue\n",
    "        if 'liquid' in workflow: continue\n",
    "        total_label_nb = workflow_dict['label_nb']\n",
    "        v_[w] = workflow_dict[label]/total_label_nb*100\n",
    "        w+=1\n",
    "        if label == 'Fish':\n",
    "#             workflows.append(workflow)\n",
    "            plt.text(w-1,105, total_label_nb, horizontalalignment='center')\n",
    "        plt.text(w-1,v[w-1]+v_[w-1]/2,\n",
    "                 workflow_dict[label],\n",
    "                 verticalalignment='center',\n",
    "                 horizontalalignment='center',color='black')\n",
    "    \n",
    "    plt.bar(workflows, v_, bottom=v, orientation='vertical', color=color_dict[label], label=label)\n",
    "    v += v_\n",
    "plt.legend(frameon=False, bbox_to_anchor=(1,1), loc='upper left')\n",
    "# plt.ylabel('% labels');\n",
    "plt.ylabel('distribution of labels (%)');\n",
    "sns.despine()\n",
    "plt.savefig('../figures/overview_labels_relative.pdf',bbox_inches='tight')"
   ]
  },
  {
   "cell_type": "code",
   "execution_count": 16,
   "metadata": {},
   "outputs": [
    {
     "name": "stdout",
     "output_type": "stream",
     "text": [
      "EUREC4A (ICON; albedo) (n/a): viewing average: 2.8 participants\n",
      "EUREC4A (ICON; cloud liquid + ice) (): viewing average: 1.6 participants\n",
      "EUREC4A (IR) (ABI): viewing average: 6.4 participants\n",
      "EUREC4A (VIS) (ABI): viewing average: 15.2 participants\n",
      "EUREC4A (VIS) (MODIS): viewing average: 15.2 participants\n"
     ]
    }
   ],
   "source": [
    "basic_numbers_dict = {}\n",
    "\n",
    "# Totals:\n",
    "basic_numbers_dict['global'] = {}\n",
    "basic_numbers_dict['global']['Classifications'] = len(np.unique(ds_l1.classification_id))\n",
    "basic_numbers_dict['global']['Labels'] = len(ds_l1.tool_label)\n",
    "basic_numbers_dict['global']['Users'] = len(np.unique(ds_l1.user_name))\n",
    "\n",
    "for workflow, grp in ds_l1.groupby(ds_l1.workflow_name):\n",
    "    for instrument, grp_inst in grp.groupby(grp.instrument):\n",
    "        views = []\n",
    "        for sbj, g in grp.groupby('subject_ids'):\n",
    "            views.append(len(np.unique(g.classification_id)))\n",
    "        print('{} ({}): viewing average: {} participants'.format(workflow, instrument, np.round(np.mean(views),1)))"
   ]
  },
  {
   "cell_type": "code",
   "execution_count": null,
   "metadata": {},
   "outputs": [],
   "source": []
  }
 ],
 "metadata": {
  "kernelspec": {
   "display_name": "Python 3",
   "language": "python",
   "name": "python3"
  },
  "language_info": {
   "codemirror_mode": {
    "name": "ipython",
    "version": 3
   },
   "file_extension": ".py",
   "mimetype": "text/x-python",
   "name": "python",
   "nbconvert_exporter": "python",
   "pygments_lexer": "ipython3",
   "version": "3.6.7"
  }
 },
 "nbformat": 4,
 "nbformat_minor": 4
}
