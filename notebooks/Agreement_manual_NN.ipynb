{
 "cells": [
  {
   "cell_type": "markdown",
   "metadata": {},
   "source": [
    "# Agreement between manual classifications and deep neural network"
   ]
  },
  {
   "cell_type": "code",
   "execution_count": 1,
   "metadata": {},
   "outputs": [
    {
     "name": "stdout",
     "output_type": "stream",
     "text": [
      "/mnt/lustre02/work/mh0010/m300408/CharacterizationOfMesoscalePatterns/Classification/NN-application/NN_agreement_analysis\r\n"
     ]
    }
   ],
   "source": [
    "!pwd"
   ]
  },
  {
   "cell_type": "code",
   "execution_count": 2,
   "metadata": {},
   "outputs": [
    {
     "name": "stdout",
     "output_type": "stream",
     "text": [
      "/sw/spack-rhel6/jupyterhub/jupyterhub/bin/python\r\n"
     ]
    }
   ],
   "source": [
    "!which python"
   ]
  },
  {
   "cell_type": "code",
   "execution_count": 3,
   "metadata": {},
   "outputs": [],
   "source": [
    "domain = [10, 24, -61, -40]  # domain of original data [lat1, lat2, lon1, lon2]\n",
    "lat0, lat1, lon0, lon1 = [10, 20, -58, -48]\n",
    "label_map= {'Sugar':0, 'Fish': 3, 'Flowers': 2, 'Flower': 2, 'Gravel': 1}\n",
    "label_map_rv = {0:'Sugar', 1:'Gravel', 2: 'Flowers', 3: 'Fish'}\n",
    "color_dict = {'Sugar':'#A1D791','Fish':'#2281BB','Gravel':'#3EAE47', 'Flowers': '#93D2E2'}\n",
    "frequency_threshold = 0.1"
   ]
  },
  {
   "cell_type": "code",
   "execution_count": 4,
   "metadata": {},
   "outputs": [],
   "source": [
    "fn_ABI_IR = '/mnt/lustre02/work/mh0010/m300408/CharacterizationOfMesoscalePatterns/Data/Level_1/GOES16_CH13_classifications_2018-2020_NDJFM_30min.zarr/' #\" ABIonICONdomain_DOM01.zarr'\n",
    "files_manualClassifications_l3 = {\n",
    "   \"manualVIS\": '/work/mh0010/m300408/EUREC4A_CloudClassification/manual/processed_data/EUREC4A_ManualClassifications_l3_VIS.zarr',\n",
    "   \"manualIR\": '/work/mh0010/m300408/EUREC4A_CloudClassification/manual/processed_data/EUREC4A_ManualClassifications_l3_IR.zarr',\n",
    "   \"manualICON\": '/work/mh0010/m300408/EUREC4A_CloudClassification/manual/processed_data/EUREC4A_ManualClassifications_l3_albedo.zarr' \n",
    "}\n",
    "fn_iorg = '/work/mh0010/m300408/EUREC4A_CloudClassification/metrics/GOES16_IR_nc_Iorg_EUREC4A_10-20_-58--48.nc'"
   ]
  },
  {
   "cell_type": "code",
   "execution_count": 5,
   "metadata": {},
   "outputs": [],
   "source": [
    "%load_ext autoreload\n",
    "%autoreload 2\n",
    "import tqdm\n",
    "import dask\n",
    "import zarr\n",
    "import xarray as xr\n",
    "import numpy as np\n",
    "import matplotlib.pyplot as plt\n",
    "from matplotlib.patches import Circle, Wedge, Polygon\n",
    "from matplotlib.collections import PatchCollection\n",
    "import datetime as dt\n",
    "import pandas as pd\n",
    "\n",
    "import sys, os\n",
    "sys.path.append(\"/home/mpim/m300408/CloudClassification/sugar-flower-fish-or-gravel\")\n",
    "from pyclouds.imports import *\n",
    "from pyclouds.helpers import *\n",
    "from pyclouds.zooniverse import *\n",
    "from pyclouds.plot import *\n",
    "\n",
    "del tqdm\n",
    "import tqdm\n",
    "\n",
    "sys.path.append(\".\")\n",
    "import glob\n",
    "from helpers import *"
   ]
  },
  {
   "cell_type": "code",
   "execution_count": 6,
   "metadata": {},
   "outputs": [
    {
     "data": {
      "text/plain": [
       "'1.3.4'"
      ]
     },
     "execution_count": 6,
     "metadata": {},
     "output_type": "execute_result"
    }
   ],
   "source": [
    "pd.__version__"
   ]
  },
  {
   "cell_type": "markdown",
   "metadata": {},
   "source": [
    "## Calculate IoUs and compute classification mask"
   ]
  },
  {
   "cell_type": "code",
   "execution_count": 7,
   "metadata": {},
   "outputs": [],
   "source": [
    "### Open neural network classifications\n",
    "mask_ABI_IR = xr.open_zarr(fn_ABI_IR)"
   ]
  },
  {
   "cell_type": "code",
   "execution_count": null,
   "metadata": {},
   "outputs": [],
   "source": [
    "for workflow, l3_file in files_manualClassifications_l3.items():\n",
    "    ### Open manual classifications\n",
    "    if '.zarr' in l3_file:\n",
    "        mask_manual_classifications = xr.open_zarr(l3_file)\n",
    "    elif '.nc' in l3_file:\n",
    "        mask_manual_classifications = xr.open_dataset(l3_file)\n",
    "    else:\n",
    "        print('File format not supported')\n",
    "    \n",
    "    # find common times\n",
    "    time_set_A = set(mask_ABI_IR.time.dt.floor(freq='1T').values)\n",
    "    time_set_B = set(mask_manual_classifications.date.values)\n",
    "    common_dates = np.array([*time_set_A.intersection(time_set_B)])\n",
    "    times_of_interest = sorted(np.unique(common_dates))\n",
    "\n",
    "    time_mask_ABIIR = np.in1d(mask_ABI_IR.time.dt.floor(freq='1T').values,common_dates)\n",
    "\n",
    "    mask_ABI_IR_timesel = mask_ABI_IR.sel(time=time_mask_ABIIR)\n",
    "    mask_ABI_IR_timesel['date'] = mask_ABI_IR_timesel.time.dt.floor(freq='1T')\n",
    "\n",
    "    mask_manual_timesel = mask_manual_classifications.sel(date=common_dates)\n",
    "\n",
    "    results = {}\n",
    "\n",
    "    print(\"Find common times to all datasets\")\n",
    "    sizes_calculated = False\n",
    "\n",
    "    for ii, i in enumerate(tqdm.tqdm(range(len(times_of_interest)))):\n",
    "        if ii > 12: continue\n",
    "        mask_ABI_IR_timestep = mask_ABI_IR_timesel.where(mask_ABI_IR_timesel.date == times_of_interest[i], drop=True)\n",
    "        mask_manual_timestep = mask_manual_timesel.sel(date=times_of_interest[i])\n",
    "\n",
    "\n",
    "\n",
    "        mask_ABI_IR_timestep = mask_ABI_IR_timestep.sel(latitude=slice(lat1, lat0),longitude=slice(lon0, lon1))\n",
    "        mask_manual_timestep = mask_manual_timestep.sel(latitude=slice(lat1, lat0),longitude=slice(lon0, lon1))\n",
    "\n",
    "        if sizes_calculated is False:\n",
    "            size_ABI = len(mask_ABI_IR_timestep.latitude)*len(mask_ABI_IR_timestep.longitude)\n",
    "            size_manual = len(mask_manual_timestep.latitude)*len(mask_manual_timestep.longitude)\n",
    "            sizes_calculated = True\n",
    "\n",
    "    # for d, date in enumerate(tqdm.tqdm(dates_in_all_datasets)):\n",
    "        pattern_results = {}\n",
    "\n",
    "        for pattern in ['Sugar', 'Gravel', 'Flowers', 'Fish']:\n",
    "            arr_ABI = mask_ABI_IR_timestep.mask.sel(pattern=pattern)\n",
    "            arr_manual = mask_manual_timestep.freq.sel(pattern=pattern)\n",
    "            pattern_results[pattern] = {}\n",
    "\n",
    "            merged_mask_ABI = merge_mask(arr_ABI)\n",
    "            merged_mask_manual = arr_manual > frequency_threshold\n",
    "\n",
    "            merged_mask_ABI = merged_mask_ABI.fillna(False).astype(bool).load()\n",
    "            merged_mask_manual = merged_mask_manual.load()\n",
    "\n",
    "            pattern_results[pattern][\"area_fraction_ABI\"] = np.count_nonzero(merged_mask_ABI)/size_ABI\n",
    "            pattern_results[pattern][f\"area_fraction_{workflow}\"] = np.count_nonzero(merged_mask_manual)/size_manual\n",
    "\n",
    "            iou_ABI_Manual = iou_one_class_from_annos(merged_mask_ABI.values,\n",
    "                                                    merged_mask_manual.values,\n",
    "                                                    return_iou = True)\n",
    "\n",
    "            pattern_results[pattern][f\"iou_ABI_{workflow}\"] = iou_ABI_Manual\n",
    "            pattern_results[pattern][f\"missing_ABI_{workflow}\"] = identify_where_class_missing(merged_mask_ABI,\n",
    "                                                                                        merged_mask_manual)\n",
    "\n",
    "\n",
    "        results[times_of_interest[i]] = pattern_results\n",
    "    df = pd.DataFrame.from_dict(results, orient='index')\n",
    "    df.to_pickle(f'agreement_results_ABI-IR_vs_{workflow}.pkl')"
   ]
  },
  {
   "cell_type": "markdown",
   "metadata": {},
   "source": [
    "## Load computed data and merge with existing computations of other workflows"
   ]
  },
  {
   "cell_type": "code",
   "execution_count": 23,
   "metadata": {},
   "outputs": [
    {
     "name": "stdout",
     "output_type": "stream",
     "text": [
      "['agreement_results_ABI-IR_vs_manualVIS.pkl', 'agreement_results_ABI-IR_vs_manualIR.pkl', 'agreement_results_ABI-IR_vs_manualICON.pkl']\n"
     ]
    }
   ],
   "source": [
    "# Read output created by agreement_NN.py or the code section above\n",
    "agreement_files = []\n",
    "for workflow, _ in files_manualClassifications_l3.items():\n",
    "    file = f\"agreement_results_ABI-IR_vs_{workflow}.pkl\"\n",
    "    if os.path.isfile(file):\n",
    "        agreement_files.append(f\"agreement_results_ABI-IR_vs_{workflow}.pkl\")\n",
    "\n",
    "print(agreement_files)\n",
    "dataframes = [None]*len(agreement_files)\n",
    "for f,file in enumerate(agreement_files):\n",
    "    dataframes[f] = pd.read_pickle(file)"
   ]
  },
  {
   "cell_type": "code",
   "execution_count": 24,
   "metadata": {},
   "outputs": [
    {
     "data": {
      "text/html": [
       "<div>\n",
       "<style scoped>\n",
       "    .dataframe tbody tr th:only-of-type {\n",
       "        vertical-align: middle;\n",
       "    }\n",
       "\n",
       "    .dataframe tbody tr th {\n",
       "        vertical-align: top;\n",
       "    }\n",
       "\n",
       "    .dataframe thead th {\n",
       "        text-align: right;\n",
       "    }\n",
       "</style>\n",
       "<table border=\"1\" class=\"dataframe\">\n",
       "  <thead>\n",
       "    <tr style=\"text-align: right;\">\n",
       "      <th></th>\n",
       "      <th>Sugar</th>\n",
       "      <th>Gravel</th>\n",
       "      <th>Flowers</th>\n",
       "      <th>Fish</th>\n",
       "    </tr>\n",
       "  </thead>\n",
       "  <tbody>\n",
       "    <tr>\n",
       "      <th>2020-01-07 02:00:00</th>\n",
       "      <td>{'area_fraction_ABI': 0.0, 'area_fraction_manu...</td>\n",
       "      <td>{'area_fraction_ABI': 0.82656, 'area_fraction_...</td>\n",
       "      <td>{'area_fraction_ABI': 0.0, 'area_fraction_manu...</td>\n",
       "      <td>{'area_fraction_ABI': 0.0, 'area_fraction_manu...</td>\n",
       "    </tr>\n",
       "    <tr>\n",
       "      <th>2020-01-07 04:00:00</th>\n",
       "      <td>{'area_fraction_ABI': 0.0, 'area_fraction_manu...</td>\n",
       "      <td>{'area_fraction_ABI': 0.9, 'area_fraction_manu...</td>\n",
       "      <td>{'area_fraction_ABI': 0.0, 'area_fraction_manu...</td>\n",
       "      <td>{'area_fraction_ABI': 0.0, 'area_fraction_manu...</td>\n",
       "    </tr>\n",
       "    <tr>\n",
       "      <th>2020-01-07 06:00:00</th>\n",
       "      <td>{'area_fraction_ABI': 0.0, 'area_fraction_manu...</td>\n",
       "      <td>{'area_fraction_ABI': 0.784131, 'area_fraction...</td>\n",
       "      <td>{'area_fraction_ABI': 0.0, 'area_fraction_manu...</td>\n",
       "      <td>{'area_fraction_ABI': 0.0, 'area_fraction_manu...</td>\n",
       "    </tr>\n",
       "    <tr>\n",
       "      <th>2020-01-07 08:00:00</th>\n",
       "      <td>{'area_fraction_ABI': 0.0, 'area_fraction_manu...</td>\n",
       "      <td>{'area_fraction_ABI': 0.800765, 'area_fraction...</td>\n",
       "      <td>{'area_fraction_ABI': 0.0, 'area_fraction_manu...</td>\n",
       "      <td>{'area_fraction_ABI': 0.0, 'area_fraction_manu...</td>\n",
       "    </tr>\n",
       "    <tr>\n",
       "      <th>2020-01-07 10:00:00</th>\n",
       "      <td>{'area_fraction_ABI': 0.0, 'area_fraction_manu...</td>\n",
       "      <td>{'area_fraction_ABI': 0.817747, 'area_fraction...</td>\n",
       "      <td>{'area_fraction_ABI': 0.0, 'area_fraction_manu...</td>\n",
       "      <td>{'area_fraction_ABI': 0.0, 'area_fraction_manu...</td>\n",
       "    </tr>\n",
       "  </tbody>\n",
       "</table>\n",
       "</div>"
      ],
      "text/plain": [
       "                                                                 Sugar  \\\n",
       "2020-01-07 02:00:00  {'area_fraction_ABI': 0.0, 'area_fraction_manu...   \n",
       "2020-01-07 04:00:00  {'area_fraction_ABI': 0.0, 'area_fraction_manu...   \n",
       "2020-01-07 06:00:00  {'area_fraction_ABI': 0.0, 'area_fraction_manu...   \n",
       "2020-01-07 08:00:00  {'area_fraction_ABI': 0.0, 'area_fraction_manu...   \n",
       "2020-01-07 10:00:00  {'area_fraction_ABI': 0.0, 'area_fraction_manu...   \n",
       "\n",
       "                                                                Gravel  \\\n",
       "2020-01-07 02:00:00  {'area_fraction_ABI': 0.82656, 'area_fraction_...   \n",
       "2020-01-07 04:00:00  {'area_fraction_ABI': 0.9, 'area_fraction_manu...   \n",
       "2020-01-07 06:00:00  {'area_fraction_ABI': 0.784131, 'area_fraction...   \n",
       "2020-01-07 08:00:00  {'area_fraction_ABI': 0.800765, 'area_fraction...   \n",
       "2020-01-07 10:00:00  {'area_fraction_ABI': 0.817747, 'area_fraction...   \n",
       "\n",
       "                                                               Flowers  \\\n",
       "2020-01-07 02:00:00  {'area_fraction_ABI': 0.0, 'area_fraction_manu...   \n",
       "2020-01-07 04:00:00  {'area_fraction_ABI': 0.0, 'area_fraction_manu...   \n",
       "2020-01-07 06:00:00  {'area_fraction_ABI': 0.0, 'area_fraction_manu...   \n",
       "2020-01-07 08:00:00  {'area_fraction_ABI': 0.0, 'area_fraction_manu...   \n",
       "2020-01-07 10:00:00  {'area_fraction_ABI': 0.0, 'area_fraction_manu...   \n",
       "\n",
       "                                                                  Fish  \n",
       "2020-01-07 02:00:00  {'area_fraction_ABI': 0.0, 'area_fraction_manu...  \n",
       "2020-01-07 04:00:00  {'area_fraction_ABI': 0.0, 'area_fraction_manu...  \n",
       "2020-01-07 06:00:00  {'area_fraction_ABI': 0.0, 'area_fraction_manu...  \n",
       "2020-01-07 08:00:00  {'area_fraction_ABI': 0.0, 'area_fraction_manu...  \n",
       "2020-01-07 10:00:00  {'area_fraction_ABI': 0.0, 'area_fraction_manu...  "
      ]
     },
     "execution_count": 24,
     "metadata": {},
     "output_type": "execute_result"
    }
   ],
   "source": [
    "df_all = pd.concat(dataframes);\n",
    "df_all.head()"
   ]
  },
  {
   "cell_type": "code",
   "execution_count": 25,
   "metadata": {},
   "outputs": [],
   "source": [
    "# Restrict analysis by time period\n",
    "mask = (df_all.index >= '2020-01-07') & (df_all.index <= '2020-02-22')\n",
    "# IOP\n",
    "#20 January and 20 February 2020\n",
    "# mask = (df_all.index >= '2020-01-20') & (df_all.index <= '2020-02-20')"
   ]
  },
  {
   "cell_type": "code",
   "execution_count": 26,
   "metadata": {},
   "outputs": [],
   "source": [
    "df_all = df_all.loc[mask]"
   ]
  },
  {
   "cell_type": "code",
   "execution_count": 27,
   "metadata": {},
   "outputs": [],
   "source": [
    "Sugar_df = df_all.Sugar.apply(pd.Series)\n",
    "Gravel_df = df_all.Gravel.apply(pd.Series)\n",
    "Flowers_df = df_all.Flowers.apply(pd.Series)\n",
    "Fish_df = df_all.Fish.apply(pd.Series)"
   ]
  },
  {
   "cell_type": "code",
   "execution_count": 28,
   "metadata": {},
   "outputs": [],
   "source": [
    "for df,p in zip([Sugar_df, Gravel_df, Fish_df, Flowers_df], ['Sugar','Gravel','Fish','Flowers']):\n",
    "    rename_dict = {}\n",
    "    for c in df.columns:\n",
    "        rename_dict[c]=p+\"_\"+c\n",
    "    df.rename(columns=rename_dict, inplace=True)"
   ]
  },
  {
   "cell_type": "code",
   "execution_count": 29,
   "metadata": {},
   "outputs": [],
   "source": [
    "from functools import reduce\n",
    "df_all = reduce(lambda  left,right: pd.merge(left,right,left_index=True,right_index=True,\n",
    "                                            how='outer'), [Sugar_df, Gravel_df, Flowers_df, Fish_df])"
   ]
  },
  {
   "cell_type": "code",
   "execution_count": 30,
   "metadata": {},
   "outputs": [
    {
     "data": {
      "text/html": [
       "<div>\n",
       "<style scoped>\n",
       "    .dataframe tbody tr th:only-of-type {\n",
       "        vertical-align: middle;\n",
       "    }\n",
       "\n",
       "    .dataframe tbody tr th {\n",
       "        vertical-align: top;\n",
       "    }\n",
       "\n",
       "    .dataframe thead th {\n",
       "        text-align: right;\n",
       "    }\n",
       "</style>\n",
       "<table border=\"1\" class=\"dataframe\">\n",
       "  <thead>\n",
       "    <tr style=\"text-align: right;\">\n",
       "      <th></th>\n",
       "      <th>Sugar_area_fraction_ABI</th>\n",
       "      <th>Sugar_area_fraction_manualVIS</th>\n",
       "      <th>Sugar_iou_ABI_manualVIS</th>\n",
       "      <th>Sugar_missing_ABI_manualVIS</th>\n",
       "      <th>Sugar_area_fraction_manualIR</th>\n",
       "      <th>Sugar_iou_ABI_manualIR</th>\n",
       "      <th>Sugar_missing_ABI_manualIR</th>\n",
       "      <th>Sugar_area_fraction_manualICON</th>\n",
       "      <th>Sugar_iou_ABI_manualICON</th>\n",
       "      <th>Sugar_missing_ABI_manualICON</th>\n",
       "      <th>...</th>\n",
       "      <th>Fish_area_fraction_ABI</th>\n",
       "      <th>Fish_area_fraction_manualVIS</th>\n",
       "      <th>Fish_iou_ABI_manualVIS</th>\n",
       "      <th>Fish_missing_ABI_manualVIS</th>\n",
       "      <th>Fish_area_fraction_manualIR</th>\n",
       "      <th>Fish_iou_ABI_manualIR</th>\n",
       "      <th>Fish_missing_ABI_manualIR</th>\n",
       "      <th>Fish_area_fraction_manualICON</th>\n",
       "      <th>Fish_iou_ABI_manualICON</th>\n",
       "      <th>Fish_missing_ABI_manualICON</th>\n",
       "    </tr>\n",
       "  </thead>\n",
       "  <tbody>\n",
       "    <tr>\n",
       "      <th>2020-01-07 02:00:00</th>\n",
       "      <td>0.0</td>\n",
       "      <td>0.0</td>\n",
       "      <td>NaN</td>\n",
       "      <td>3.0</td>\n",
       "      <td>NaN</td>\n",
       "      <td>NaN</td>\n",
       "      <td>NaN</td>\n",
       "      <td>NaN</td>\n",
       "      <td>NaN</td>\n",
       "      <td>NaN</td>\n",
       "      <td>...</td>\n",
       "      <td>0.0</td>\n",
       "      <td>0.0</td>\n",
       "      <td>NaN</td>\n",
       "      <td>3.0</td>\n",
       "      <td>NaN</td>\n",
       "      <td>NaN</td>\n",
       "      <td>NaN</td>\n",
       "      <td>NaN</td>\n",
       "      <td>NaN</td>\n",
       "      <td>NaN</td>\n",
       "    </tr>\n",
       "    <tr>\n",
       "      <th>2020-01-07 02:00:00</th>\n",
       "      <td>0.0</td>\n",
       "      <td>0.0</td>\n",
       "      <td>NaN</td>\n",
       "      <td>3.0</td>\n",
       "      <td>NaN</td>\n",
       "      <td>NaN</td>\n",
       "      <td>NaN</td>\n",
       "      <td>NaN</td>\n",
       "      <td>NaN</td>\n",
       "      <td>NaN</td>\n",
       "      <td>...</td>\n",
       "      <td>0.0</td>\n",
       "      <td>NaN</td>\n",
       "      <td>NaN</td>\n",
       "      <td>NaN</td>\n",
       "      <td>0.0</td>\n",
       "      <td>NaN</td>\n",
       "      <td>3.0</td>\n",
       "      <td>NaN</td>\n",
       "      <td>NaN</td>\n",
       "      <td>NaN</td>\n",
       "    </tr>\n",
       "    <tr>\n",
       "      <th>2020-01-07 02:00:00</th>\n",
       "      <td>0.0</td>\n",
       "      <td>0.0</td>\n",
       "      <td>NaN</td>\n",
       "      <td>3.0</td>\n",
       "      <td>NaN</td>\n",
       "      <td>NaN</td>\n",
       "      <td>NaN</td>\n",
       "      <td>NaN</td>\n",
       "      <td>NaN</td>\n",
       "      <td>NaN</td>\n",
       "      <td>...</td>\n",
       "      <td>0.0</td>\n",
       "      <td>NaN</td>\n",
       "      <td>NaN</td>\n",
       "      <td>NaN</td>\n",
       "      <td>NaN</td>\n",
       "      <td>NaN</td>\n",
       "      <td>NaN</td>\n",
       "      <td>0.0</td>\n",
       "      <td>NaN</td>\n",
       "      <td>3.0</td>\n",
       "    </tr>\n",
       "    <tr>\n",
       "      <th>2020-01-07 02:00:00</th>\n",
       "      <td>0.0</td>\n",
       "      <td>0.0</td>\n",
       "      <td>NaN</td>\n",
       "      <td>3.0</td>\n",
       "      <td>NaN</td>\n",
       "      <td>NaN</td>\n",
       "      <td>NaN</td>\n",
       "      <td>NaN</td>\n",
       "      <td>NaN</td>\n",
       "      <td>NaN</td>\n",
       "      <td>...</td>\n",
       "      <td>0.0</td>\n",
       "      <td>0.0</td>\n",
       "      <td>NaN</td>\n",
       "      <td>3.0</td>\n",
       "      <td>NaN</td>\n",
       "      <td>NaN</td>\n",
       "      <td>NaN</td>\n",
       "      <td>NaN</td>\n",
       "      <td>NaN</td>\n",
       "      <td>NaN</td>\n",
       "    </tr>\n",
       "    <tr>\n",
       "      <th>2020-01-07 02:00:00</th>\n",
       "      <td>0.0</td>\n",
       "      <td>0.0</td>\n",
       "      <td>NaN</td>\n",
       "      <td>3.0</td>\n",
       "      <td>NaN</td>\n",
       "      <td>NaN</td>\n",
       "      <td>NaN</td>\n",
       "      <td>NaN</td>\n",
       "      <td>NaN</td>\n",
       "      <td>NaN</td>\n",
       "      <td>...</td>\n",
       "      <td>0.0</td>\n",
       "      <td>NaN</td>\n",
       "      <td>NaN</td>\n",
       "      <td>NaN</td>\n",
       "      <td>0.0</td>\n",
       "      <td>NaN</td>\n",
       "      <td>3.0</td>\n",
       "      <td>NaN</td>\n",
       "      <td>NaN</td>\n",
       "      <td>NaN</td>\n",
       "    </tr>\n",
       "    <tr>\n",
       "      <th>...</th>\n",
       "      <td>...</td>\n",
       "      <td>...</td>\n",
       "      <td>...</td>\n",
       "      <td>...</td>\n",
       "      <td>...</td>\n",
       "      <td>...</td>\n",
       "      <td>...</td>\n",
       "      <td>...</td>\n",
       "      <td>...</td>\n",
       "      <td>...</td>\n",
       "      <td>...</td>\n",
       "      <td>...</td>\n",
       "      <td>...</td>\n",
       "      <td>...</td>\n",
       "      <td>...</td>\n",
       "      <td>...</td>\n",
       "      <td>...</td>\n",
       "      <td>...</td>\n",
       "      <td>...</td>\n",
       "      <td>...</td>\n",
       "      <td>...</td>\n",
       "    </tr>\n",
       "    <tr>\n",
       "      <th>2020-01-08 02:00:00</th>\n",
       "      <td>0.0</td>\n",
       "      <td>NaN</td>\n",
       "      <td>NaN</td>\n",
       "      <td>NaN</td>\n",
       "      <td>NaN</td>\n",
       "      <td>NaN</td>\n",
       "      <td>NaN</td>\n",
       "      <td>0.0</td>\n",
       "      <td>NaN</td>\n",
       "      <td>3.0</td>\n",
       "      <td>...</td>\n",
       "      <td>0.0</td>\n",
       "      <td>NaN</td>\n",
       "      <td>NaN</td>\n",
       "      <td>NaN</td>\n",
       "      <td>0.0</td>\n",
       "      <td>NaN</td>\n",
       "      <td>3.0</td>\n",
       "      <td>NaN</td>\n",
       "      <td>NaN</td>\n",
       "      <td>NaN</td>\n",
       "    </tr>\n",
       "    <tr>\n",
       "      <th>2020-01-08 02:00:00</th>\n",
       "      <td>0.0</td>\n",
       "      <td>NaN</td>\n",
       "      <td>NaN</td>\n",
       "      <td>NaN</td>\n",
       "      <td>NaN</td>\n",
       "      <td>NaN</td>\n",
       "      <td>NaN</td>\n",
       "      <td>0.0</td>\n",
       "      <td>NaN</td>\n",
       "      <td>3.0</td>\n",
       "      <td>...</td>\n",
       "      <td>0.0</td>\n",
       "      <td>NaN</td>\n",
       "      <td>NaN</td>\n",
       "      <td>NaN</td>\n",
       "      <td>NaN</td>\n",
       "      <td>NaN</td>\n",
       "      <td>NaN</td>\n",
       "      <td>0.0</td>\n",
       "      <td>NaN</td>\n",
       "      <td>3.0</td>\n",
       "    </tr>\n",
       "    <tr>\n",
       "      <th>2020-01-08 02:00:00</th>\n",
       "      <td>0.0</td>\n",
       "      <td>NaN</td>\n",
       "      <td>NaN</td>\n",
       "      <td>NaN</td>\n",
       "      <td>NaN</td>\n",
       "      <td>NaN</td>\n",
       "      <td>NaN</td>\n",
       "      <td>0.0</td>\n",
       "      <td>NaN</td>\n",
       "      <td>3.0</td>\n",
       "      <td>...</td>\n",
       "      <td>0.0</td>\n",
       "      <td>0.0</td>\n",
       "      <td>NaN</td>\n",
       "      <td>3.0</td>\n",
       "      <td>NaN</td>\n",
       "      <td>NaN</td>\n",
       "      <td>NaN</td>\n",
       "      <td>NaN</td>\n",
       "      <td>NaN</td>\n",
       "      <td>NaN</td>\n",
       "    </tr>\n",
       "    <tr>\n",
       "      <th>2020-01-08 02:00:00</th>\n",
       "      <td>0.0</td>\n",
       "      <td>NaN</td>\n",
       "      <td>NaN</td>\n",
       "      <td>NaN</td>\n",
       "      <td>NaN</td>\n",
       "      <td>NaN</td>\n",
       "      <td>NaN</td>\n",
       "      <td>0.0</td>\n",
       "      <td>NaN</td>\n",
       "      <td>3.0</td>\n",
       "      <td>...</td>\n",
       "      <td>0.0</td>\n",
       "      <td>NaN</td>\n",
       "      <td>NaN</td>\n",
       "      <td>NaN</td>\n",
       "      <td>0.0</td>\n",
       "      <td>NaN</td>\n",
       "      <td>3.0</td>\n",
       "      <td>NaN</td>\n",
       "      <td>NaN</td>\n",
       "      <td>NaN</td>\n",
       "    </tr>\n",
       "    <tr>\n",
       "      <th>2020-01-08 02:00:00</th>\n",
       "      <td>0.0</td>\n",
       "      <td>NaN</td>\n",
       "      <td>NaN</td>\n",
       "      <td>NaN</td>\n",
       "      <td>NaN</td>\n",
       "      <td>NaN</td>\n",
       "      <td>NaN</td>\n",
       "      <td>0.0</td>\n",
       "      <td>NaN</td>\n",
       "      <td>3.0</td>\n",
       "      <td>...</td>\n",
       "      <td>0.0</td>\n",
       "      <td>NaN</td>\n",
       "      <td>NaN</td>\n",
       "      <td>NaN</td>\n",
       "      <td>NaN</td>\n",
       "      <td>NaN</td>\n",
       "      <td>NaN</td>\n",
       "      <td>0.0</td>\n",
       "      <td>NaN</td>\n",
       "      <td>3.0</td>\n",
       "    </tr>\n",
       "  </tbody>\n",
       "</table>\n",
       "<p>1053 rows × 40 columns</p>\n",
       "</div>"
      ],
      "text/plain": [
       "                     Sugar_area_fraction_ABI  Sugar_area_fraction_manualVIS  \\\n",
       "2020-01-07 02:00:00                      0.0                            0.0   \n",
       "2020-01-07 02:00:00                      0.0                            0.0   \n",
       "2020-01-07 02:00:00                      0.0                            0.0   \n",
       "2020-01-07 02:00:00                      0.0                            0.0   \n",
       "2020-01-07 02:00:00                      0.0                            0.0   \n",
       "...                                      ...                            ...   \n",
       "2020-01-08 02:00:00                      0.0                            NaN   \n",
       "2020-01-08 02:00:00                      0.0                            NaN   \n",
       "2020-01-08 02:00:00                      0.0                            NaN   \n",
       "2020-01-08 02:00:00                      0.0                            NaN   \n",
       "2020-01-08 02:00:00                      0.0                            NaN   \n",
       "\n",
       "                     Sugar_iou_ABI_manualVIS  Sugar_missing_ABI_manualVIS  \\\n",
       "2020-01-07 02:00:00                      NaN                          3.0   \n",
       "2020-01-07 02:00:00                      NaN                          3.0   \n",
       "2020-01-07 02:00:00                      NaN                          3.0   \n",
       "2020-01-07 02:00:00                      NaN                          3.0   \n",
       "2020-01-07 02:00:00                      NaN                          3.0   \n",
       "...                                      ...                          ...   \n",
       "2020-01-08 02:00:00                      NaN                          NaN   \n",
       "2020-01-08 02:00:00                      NaN                          NaN   \n",
       "2020-01-08 02:00:00                      NaN                          NaN   \n",
       "2020-01-08 02:00:00                      NaN                          NaN   \n",
       "2020-01-08 02:00:00                      NaN                          NaN   \n",
       "\n",
       "                     Sugar_area_fraction_manualIR  Sugar_iou_ABI_manualIR  \\\n",
       "2020-01-07 02:00:00                           NaN                     NaN   \n",
       "2020-01-07 02:00:00                           NaN                     NaN   \n",
       "2020-01-07 02:00:00                           NaN                     NaN   \n",
       "2020-01-07 02:00:00                           NaN                     NaN   \n",
       "2020-01-07 02:00:00                           NaN                     NaN   \n",
       "...                                           ...                     ...   \n",
       "2020-01-08 02:00:00                           NaN                     NaN   \n",
       "2020-01-08 02:00:00                           NaN                     NaN   \n",
       "2020-01-08 02:00:00                           NaN                     NaN   \n",
       "2020-01-08 02:00:00                           NaN                     NaN   \n",
       "2020-01-08 02:00:00                           NaN                     NaN   \n",
       "\n",
       "                     Sugar_missing_ABI_manualIR  \\\n",
       "2020-01-07 02:00:00                         NaN   \n",
       "2020-01-07 02:00:00                         NaN   \n",
       "2020-01-07 02:00:00                         NaN   \n",
       "2020-01-07 02:00:00                         NaN   \n",
       "2020-01-07 02:00:00                         NaN   \n",
       "...                                         ...   \n",
       "2020-01-08 02:00:00                         NaN   \n",
       "2020-01-08 02:00:00                         NaN   \n",
       "2020-01-08 02:00:00                         NaN   \n",
       "2020-01-08 02:00:00                         NaN   \n",
       "2020-01-08 02:00:00                         NaN   \n",
       "\n",
       "                     Sugar_area_fraction_manualICON  Sugar_iou_ABI_manualICON  \\\n",
       "2020-01-07 02:00:00                             NaN                       NaN   \n",
       "2020-01-07 02:00:00                             NaN                       NaN   \n",
       "2020-01-07 02:00:00                             NaN                       NaN   \n",
       "2020-01-07 02:00:00                             NaN                       NaN   \n",
       "2020-01-07 02:00:00                             NaN                       NaN   \n",
       "...                                             ...                       ...   \n",
       "2020-01-08 02:00:00                             0.0                       NaN   \n",
       "2020-01-08 02:00:00                             0.0                       NaN   \n",
       "2020-01-08 02:00:00                             0.0                       NaN   \n",
       "2020-01-08 02:00:00                             0.0                       NaN   \n",
       "2020-01-08 02:00:00                             0.0                       NaN   \n",
       "\n",
       "                     Sugar_missing_ABI_manualICON  ...  \\\n",
       "2020-01-07 02:00:00                           NaN  ...   \n",
       "2020-01-07 02:00:00                           NaN  ...   \n",
       "2020-01-07 02:00:00                           NaN  ...   \n",
       "2020-01-07 02:00:00                           NaN  ...   \n",
       "2020-01-07 02:00:00                           NaN  ...   \n",
       "...                                           ...  ...   \n",
       "2020-01-08 02:00:00                           3.0  ...   \n",
       "2020-01-08 02:00:00                           3.0  ...   \n",
       "2020-01-08 02:00:00                           3.0  ...   \n",
       "2020-01-08 02:00:00                           3.0  ...   \n",
       "2020-01-08 02:00:00                           3.0  ...   \n",
       "\n",
       "                     Fish_area_fraction_ABI  Fish_area_fraction_manualVIS  \\\n",
       "2020-01-07 02:00:00                     0.0                           0.0   \n",
       "2020-01-07 02:00:00                     0.0                           NaN   \n",
       "2020-01-07 02:00:00                     0.0                           NaN   \n",
       "2020-01-07 02:00:00                     0.0                           0.0   \n",
       "2020-01-07 02:00:00                     0.0                           NaN   \n",
       "...                                     ...                           ...   \n",
       "2020-01-08 02:00:00                     0.0                           NaN   \n",
       "2020-01-08 02:00:00                     0.0                           NaN   \n",
       "2020-01-08 02:00:00                     0.0                           0.0   \n",
       "2020-01-08 02:00:00                     0.0                           NaN   \n",
       "2020-01-08 02:00:00                     0.0                           NaN   \n",
       "\n",
       "                     Fish_iou_ABI_manualVIS  Fish_missing_ABI_manualVIS  \\\n",
       "2020-01-07 02:00:00                     NaN                         3.0   \n",
       "2020-01-07 02:00:00                     NaN                         NaN   \n",
       "2020-01-07 02:00:00                     NaN                         NaN   \n",
       "2020-01-07 02:00:00                     NaN                         3.0   \n",
       "2020-01-07 02:00:00                     NaN                         NaN   \n",
       "...                                     ...                         ...   \n",
       "2020-01-08 02:00:00                     NaN                         NaN   \n",
       "2020-01-08 02:00:00                     NaN                         NaN   \n",
       "2020-01-08 02:00:00                     NaN                         3.0   \n",
       "2020-01-08 02:00:00                     NaN                         NaN   \n",
       "2020-01-08 02:00:00                     NaN                         NaN   \n",
       "\n",
       "                     Fish_area_fraction_manualIR  Fish_iou_ABI_manualIR  \\\n",
       "2020-01-07 02:00:00                          NaN                    NaN   \n",
       "2020-01-07 02:00:00                          0.0                    NaN   \n",
       "2020-01-07 02:00:00                          NaN                    NaN   \n",
       "2020-01-07 02:00:00                          NaN                    NaN   \n",
       "2020-01-07 02:00:00                          0.0                    NaN   \n",
       "...                                          ...                    ...   \n",
       "2020-01-08 02:00:00                          0.0                    NaN   \n",
       "2020-01-08 02:00:00                          NaN                    NaN   \n",
       "2020-01-08 02:00:00                          NaN                    NaN   \n",
       "2020-01-08 02:00:00                          0.0                    NaN   \n",
       "2020-01-08 02:00:00                          NaN                    NaN   \n",
       "\n",
       "                     Fish_missing_ABI_manualIR  Fish_area_fraction_manualICON  \\\n",
       "2020-01-07 02:00:00                        NaN                            NaN   \n",
       "2020-01-07 02:00:00                        3.0                            NaN   \n",
       "2020-01-07 02:00:00                        NaN                            0.0   \n",
       "2020-01-07 02:00:00                        NaN                            NaN   \n",
       "2020-01-07 02:00:00                        3.0                            NaN   \n",
       "...                                        ...                            ...   \n",
       "2020-01-08 02:00:00                        3.0                            NaN   \n",
       "2020-01-08 02:00:00                        NaN                            0.0   \n",
       "2020-01-08 02:00:00                        NaN                            NaN   \n",
       "2020-01-08 02:00:00                        3.0                            NaN   \n",
       "2020-01-08 02:00:00                        NaN                            0.0   \n",
       "\n",
       "                     Fish_iou_ABI_manualICON  Fish_missing_ABI_manualICON  \n",
       "2020-01-07 02:00:00                      NaN                          NaN  \n",
       "2020-01-07 02:00:00                      NaN                          NaN  \n",
       "2020-01-07 02:00:00                      NaN                          3.0  \n",
       "2020-01-07 02:00:00                      NaN                          NaN  \n",
       "2020-01-07 02:00:00                      NaN                          NaN  \n",
       "...                                      ...                          ...  \n",
       "2020-01-08 02:00:00                      NaN                          NaN  \n",
       "2020-01-08 02:00:00                      NaN                          3.0  \n",
       "2020-01-08 02:00:00                      NaN                          NaN  \n",
       "2020-01-08 02:00:00                      NaN                          NaN  \n",
       "2020-01-08 02:00:00                      NaN                          3.0  \n",
       "\n",
       "[1053 rows x 40 columns]"
      ]
     },
     "execution_count": 30,
     "metadata": {},
     "output_type": "execute_result"
    }
   ],
   "source": [
    "df_all"
   ]
  },
  {
   "cell_type": "markdown",
   "metadata": {},
   "source": [
    "Note:\n",
    "- nan values occur when the pattern has not been identified in any of the cases\n",
    "- 0 occurs, if there has been no overlap between classes, which can also happen when one NN doesn't detect the pattern at all"
   ]
  },
  {
   "cell_type": "markdown",
   "metadata": {},
   "source": [
    "## Area fractions"
   ]
  },
  {
   "cell_type": "code",
   "execution_count": 31,
   "metadata": {},
   "outputs": [],
   "source": [
    "import matplotlib.pyplot as plt\n",
    "import seaborn as sns"
   ]
  },
  {
   "cell_type": "code",
   "execution_count": 28,
   "metadata": {},
   "outputs": [
    {
     "data": {
      "image/png": "[encoded data removed]",
      "text/plain": [
       "<Figure size 1260x300 with 2 Axes>"
      ]
     },
     "metadata": {
      "needs_background": "light"
     },
     "output_type": "display_data"
    }
   ],
   "source": [
    "prop_dict = {\n",
    "    \"manualVIS\":{\n",
    "        'title': \"Manual$_{VIS}$\"\n",
    "    },\n",
    "    \"manualIR\":{\n",
    "        'title': \"Manual$_{IR}$\"\n",
    "    },\n",
    "    \"manualICON\":{\n",
    "        'title': \"Manual$_{ICON}$\"\n",
    "    },\n",
    "    \"ABI\":{\n",
    "        'title': \"ABI$_{IR}$\"\n",
    "    }\n",
    "}\n",
    "fig, axs = plt.subplots(1,2,figsize=(8.4,2),dpi=150,sharey=True)\n",
    "for a,classification_approach in enumerate([\"ABI\", \"manualVIS\"]):\n",
    "    means = {}\n",
    "    for p, pattern in enumerate(['Sugar','Gravel','Flowers','Fish']):\n",
    "        means[pattern]=df_all[pattern+'_area_fraction_'+classification_approach].loc[df_all[pattern+'_area_fraction_'+classification_approach] != 0].mean()\n",
    "        axs[a].bar(p, means[pattern],color='grey')\n",
    "    if a == 0:\n",
    "        axs[a].set_ylabel('area fraction / %')\n",
    "    axs[a].set_title(prop_dict[classification_approach]['title'])\n",
    "    sns.despine()\n",
    "    plt.tight_layout()\n",
    "    axs[a].set_xticks([0,1,2,3])\n",
    "    axs[a].set_xticklabels(['Su','Gr','Fl','Fi'])\n",
    "# plt.savefig('areafraction_comparisons.pdf',bbox_inches=\"tight\")"
   ]
  },
  {
   "cell_type": "markdown",
   "metadata": {},
   "source": [
    "### Daily distribution"
   ]
  },
  {
   "cell_type": "code",
   "execution_count": 33,
   "metadata": {},
   "outputs": [],
   "source": [
    "df_daily_mean = df_all.resample('1D').mean()"
   ]
  },
  {
   "cell_type": "code",
   "execution_count": 34,
   "metadata": {},
   "outputs": [
    {
     "data": {
      "text/plain": [
       "<matplotlib.legend.Legend at 0x2b86e747ab50>"
      ]
     },
     "execution_count": 34,
     "metadata": {},
     "output_type": "execute_result"
    },
    {
     "data": {
      "image/png": "[encoded data removed]",
      "text/plain": [
       "<Figure size 1200x450 with 1 Axes>"
      ]
     },
     "metadata": {
      "needs_background": "light"
     },
     "output_type": "display_data"
    }
   ],
   "source": [
    "plt.figure(figsize=(8,3), dpi=150)\n",
    "for pattern in ['Sugar', 'Gravel', 'Flowers', 'Fish']:\n",
    "#     df_daily_mean[f'{pattern}_area_fraction_ABI'].plot(label='ABI', color=color_dict[pattern], linestyle='--')\n",
    "    df_daily_mean[f'{pattern}_area_fraction_manualIR'].plot(label='Manual (IR)', color=color_dict[pattern], linestyle='-')\n",
    "plt.legend()"
   ]
  },
  {
   "cell_type": "code",
   "execution_count": 35,
   "metadata": {},
   "outputs": [],
   "source": [
    "df0 = df_all.filter(items=['Sugar_area_fraction_Manual','Gravel_area_fraction_Manual','Flowers_area_fraction_Manual','Fish_area_fraction_Manual']).rename(\n",
    "    columns={'Sugar_area_fraction_Manual':'Sugar',\n",
    "             'Gravel_area_fraction_Manual':'Gravel',\n",
    "             'Flowers_area_fraction_Manual':'Flowers',\n",
    "             'Fish_area_fraction_Manual':'Fish'})"
   ]
  },
  {
   "cell_type": "code",
   "execution_count": 36,
   "metadata": {},
   "outputs": [],
   "source": [
    "df1 = df_daily_mean.filter(items=['Sugar_area_fraction_ABI','Gravel_area_fraction_ABI','Flowers_area_fraction_ABI','Fish_area_fraction_ABI']).rename(\n",
    "    columns={'Sugar_area_fraction_ABI':'Sugar',\n",
    "             'Gravel_area_fraction_ABI':'Gravel',\n",
    "             'Flowers_area_fraction_ABI':'Flowers',\n",
    "             'Fish_area_fraction_ABI':'Fish'})"
   ]
  },
  {
   "cell_type": "code",
   "execution_count": 37,
   "metadata": {},
   "outputs": [],
   "source": [
    "df2 = df_daily_mean.filter(items=['Sugar_area_fraction_manualIR','Gravel_area_fraction_manualIR',\n",
    "                                  'Flowers_area_fraction_manualIR','Fish_area_fraction_manualIR']).rename(\n",
    "    columns={'Sugar_area_fraction_manualIR':'Sugar',\n",
    "             'Gravel_area_fraction_manualIR':'Gravel',\n",
    "             'Flowers_area_fraction_manualIR':'Flowers',\n",
    "             'Fish_area_fraction_manualIR':'Fish'})"
   ]
  },
  {
   "cell_type": "code",
   "execution_count": 38,
   "metadata": {},
   "outputs": [],
   "source": [
    "df3 = df_daily_mean.filter(items=['Sugar_area_fraction_manualVIS','Gravel_area_fraction_manualVIS',\n",
    "                                  'Flowers_area_fraction_manualVIS','Fish_area_fraction_manualVIS']).rename(\n",
    "    columns={'Sugar_area_fraction_manualVIS':'Sugar',\n",
    "             'Gravel_area_fraction_manualVIS':'Gravel',\n",
    "             'Flowers_area_fraction_manualVIS':'Flowers',\n",
    "             'Fish_area_fraction_manualVIS':'Fish'})"
   ]
  },
  {
   "cell_type": "code",
   "execution_count": 39,
   "metadata": {},
   "outputs": [],
   "source": [
    "df4 = df_daily_mean.filter(items=['Sugar_area_fraction_manualICON','Gravel_area_fraction_manualICON',\n",
    "                                  'Flowers_area_fraction_manualICON','Fish_area_fraction_manualICON']).rename(\n",
    "    columns={'Sugar_area_fraction_manualICON':'Sugar',\n",
    "             'Gravel_area_fraction_manualICON':'Gravel',\n",
    "             'Flowers_area_fraction_manualICON':'Flowers',\n",
    "             'Fish_area_fraction_manualICON':'Fish'})"
   ]
  },
  {
   "cell_type": "code",
   "execution_count": 40,
   "metadata": {},
   "outputs": [
    {
     "data": {
      "image/png": "[encoded data removed]",
      "text/plain": [
       "<Figure size 720x216 with 1 Axes>"
      ]
     },
     "metadata": {
      "needs_background": "light"
     },
     "output_type": "display_data"
    }
   ],
   "source": [
    "p=plot_clustered_stacked([df1, df2],[\"NN\", \"Manual IR\"],title=None,figsize=(10,3),H=None, color_dict=color_dict)\n",
    "p.set_ylabel('cumulative area fraction')\n",
    "sns.despine()\n",
    "plt.savefig('./figures/cumulative_area_fraction_ABIvsManual_dailyindividual2h.pdf', bbox_inches='tight')"
   ]
  },
  {
   "cell_type": "code",
   "execution_count": 163,
   "metadata": {},
   "outputs": [
    {
     "data": {
      "image/png": "[encoded data removed]",
      "text/plain": [
       "<Figure size 864x216 with 1 Axes>"
      ]
     },
     "metadata": {
      "needs_background": "light"
     },
     "output_type": "display_data"
    }
   ],
   "source": [
    "p=plot_clustered_stacked([df3, df2, df1, df4],[\"Manual VIS\", \"Manual IR\", \"NN\", \"Manual ICON\"],\n",
    "                         title=None,figsize=(12,3),H=None, color_dict=color_dict)\n",
    "p.set_ylabel('cumulative area fraction')\n",
    "sns.despine()\n",
    "plt.savefig('./figures/cumulative_area_fraction_ManualVISvsManualIRvsNNvsICON_dailyindividual2h.pdf', bbox_inches='tight')"
   ]
  },
  {
   "cell_type": "code",
   "execution_count": 164,
   "metadata": {},
   "outputs": [
    {
     "data": {
      "image/png": "[encoded data removed]",
      "text/plain": [
       "<Figure size 864x216 with 1 Axes>"
      ]
     },
     "metadata": {
      "needs_background": "light"
     },
     "output_type": "display_data"
    }
   ],
   "source": [
    "p=plot_clustered_stacked([df2, df4],[\"Manual IR\", \"Manual ICON\"],\n",
    "                         title=None,figsize=(12,3),H=None, color_dict=color_dict))\n",
    "p.set_ylabel('cumulative area fraction')\n",
    "sns.despine()\n",
    "# plt.savefig('./figures/cumulative_area_fraction_ManualVISvsManualIRvsNNvsICON_dailyindividual2h.pdf', bbox_inches='tight')"
   ]
  },
  {
   "cell_type": "markdown",
   "metadata": {},
   "source": [
    "## Where do IoUs of 0 come from?"
   ]
  },
  {
   "cell_type": "code",
   "execution_count": 41,
   "metadata": {},
   "outputs": [
    {
     "data": {
      "image/png": "[encoded data removed]",
      "text/plain": [
       "<Figure size 1260x300 with 2 Axes>"
      ]
     },
     "metadata": {
      "needs_background": "light"
     },
     "output_type": "display_data"
    }
   ],
   "source": [
    "prop_dict = {\n",
    "    \"ABI_manualIR\":{\n",
    "        'colors': ['grey','red' , 'orange', 'green'],\n",
    "        'title': 'ABI$_{IR}$ vs. Manual$_{IR}$'},\n",
    "    \"MVIS_AIR\":{\n",
    "        'colors': ['grey', 'blue','orange', 'green'],\n",
    "        'title': 'MODIS$_{VIS}$ vs. ABI$_{IR}$'},\n",
    "    \"MIR_AIR\":{\n",
    "        'colors':['grey', 'red' ,'orange', 'green'],\n",
    "        'title': 'MODIS$_{IR}$ vs. ABI$_{IR}$'}\n",
    "    \n",
    "}\n",
    "\n",
    "relative = True\n",
    "fig,axs = plt.subplots(1,2,figsize=(8.4,2),dpi=150,sharey=True)\n",
    "for cc, classification_comparison in enumerate([\"ABI_manualIR\"]):\n",
    "    colors = prop_dict[classification_comparison]['colors']\n",
    "    means = {}\n",
    "    for p, pattern in enumerate(['Sugar','Gravel','Flowers','Fish']):\n",
    "        total = np.count_nonzero(np.where(df_all[pattern+'_missing_'+classification_comparison].dropna() != 3,True,False))\n",
    "        if total == 0:\n",
    "            continue\n",
    "        counts = np.zeros(4)\n",
    "        iou_without_zeros = df_all[pattern+'_iou_'+classification_comparison].loc[df_all[pattern+'_missing_'+classification_comparison] ==0].mean()\n",
    "        iou_with_zeros = df_all[pattern+'_iou_'+classification_comparison].mean()\n",
    "        for i_,i in enumerate([0,1,2,3]): #0: missing in none; 3: missing in both; 2:missing in the second (AIR)\n",
    "            c=np.count_nonzero(np.where(df_all[pattern+'_missing_'+classification_comparison].dropna() == i,True,False))\n",
    "            if relative:\n",
    "                c = c/total*100\n",
    "            counts[i_] = c\n",
    "            if i == 3:\n",
    "                continue\n",
    "            if i_ == 0:\n",
    "                axs[cc].bar(p, c, color=colors[i], label='no classifications')\n",
    "            else:\n",
    "                axs[cc].bar(p, c, bottom=np.sum(counts[0:i_]), color=colors[i])\n",
    "            axs[cc].text(p,24, \"{:3.2f}\".format(iou_with_zeros),ha='center',color='white')\n",
    "            axs[cc].text(p,15, \"({:3.2f})\".format(iou_without_zeros),ha='center',color='white',fontsize=8)\n",
    "            axs[cc].set_title(prop_dict[classification_comparison]['title'])\n",
    "    axs[cc].set_xticks([0,1,2,3])\n",
    "    axs[cc].set_xticklabels(['Sugar','Gravel','Flowers','Fish'])\n",
    "    if cc == 0:\n",
    "        axs[cc].set_ylabel('rel. frequency / %')\n",
    "    sns.despine()\n",
    "    plt.tight_layout()\n",
    "# plt.savefig(f'IOU_comparisons_mean_DOM0{DOM}.pdf',bbox_inches=\"tight\")"
   ]
  },
  {
   "cell_type": "markdown",
   "metadata": {},
   "source": [
    "## Comparison with Iorg"
   ]
  },
  {
   "cell_type": "code",
   "execution_count": 46,
   "metadata": {},
   "outputs": [],
   "source": [
    "ds_iorg = xr.open_dataset(fn_iorg)"
   ]
  },
  {
   "cell_type": "code",
   "execution_count": 47,
   "metadata": {},
   "outputs": [],
   "source": [
    "contaminated_dates = np.unique(ds_iorg.where(ds_iorg.percentile_Tb < 285, drop=True).time.dt.date)"
   ]
  },
  {
   "cell_type": "code",
   "execution_count": 48,
   "metadata": {},
   "outputs": [],
   "source": [
    "ds_iorg_sel = ds_iorg.sel(time=~np.in1d(ds_iorg.time.dt.date,contaminated_dates), drop=True)\n",
    "ds_iorg_sel = ds_iorg_sel.sel(time=np.in1d(ds_iorg_sel.time.dt.date,np.unique(df_all.index.date)))"
   ]
  },
  {
   "cell_type": "code",
   "execution_count": 49,
   "metadata": {},
   "outputs": [],
   "source": [
    "ds_iorg_mean = ds_iorg_sel.groupby(ds_iorg_sel.time.dt.date).mean()\n",
    "# ds_iorg_mean = ds_iorg.groupby(ds_iorg.time.dt.date).mean()"
   ]
  },
  {
   "cell_type": "code",
   "execution_count": 49,
   "metadata": {},
   "outputs": [
    {
     "data": {
      "image/png": "[encoded data removed]",
      "text/plain": [
       "<Figure size 600x600 with 1 Axes>"
      ]
     },
     "metadata": {
      "needs_background": "light"
     },
     "output_type": "display_data"
    }
   ],
   "source": [
    "fig, ax = plt.subplots(figsize=(4,4),dpi=150)\n",
    "\n",
    "patches = []\n",
    "\n",
    "\n",
    "\n",
    "ax.plot(ds_iorg_mean.cluster_size_mean*500, ds_iorg_mean.Iorg,'.', markersize=0.1)\n",
    "ax.set_aspect(1)\n",
    "\n",
    "for t, (y,x) in enumerate(zip(ds_iorg_mean.cluster_size_mean.values*500, ds_iorg_mean.Iorg.values)):\n",
    "#     if t>15:continue\n",
    "    date = ds_iorg_mean.isel(date=t).date.values\n",
    "    date = dt.datetime.combine(date.item(), dt.datetime.min.time())\n",
    "    try:\n",
    "        data = df2.loc[date]\n",
    "    except KeyError:\n",
    "        continue\n",
    "# Some limiting conditions on Wedge\n",
    "    for p_,pattern in enumerate(['Sugar','Gravel', 'Flowers','Fish']):\n",
    "        w = Wedge((y, x), data[pattern]/80, p_*90, (p_+1)*90, fc=color_dict[pattern])\n",
    "\n",
    "        ax.add_patch(w)\n",
    "\n",
    "w = Wedge((.3, .45), 1/80, 0, 90, fc='white',ec='k', transform=ax.transData)\n",
    "ax.add_patch(w)\n",
    "w = Wedge((.3, .50), 0.5/80, 0, 90, fc='white',ec='k', transform=ax.transData)\n",
    "ax.add_patch(w)\n",
    "\n",
    "# p = PatchCollection(patches, alpha=1)\n",
    "# ax.add_collection(p)\n",
    "plt.xlabel('mean cluster size')\n",
    "plt.ylabel('I$_{org}$')\n",
    "sns.despine(offset=5)\n",
    "# plt.savefig('./figures/Iorg_vs_S_hueManualClassifications.pdf', bbox_inches=\"tight\")"
   ]
  },
  {
   "cell_type": "code",
   "execution_count": 50,
   "metadata": {},
   "outputs": [
    {
     "data": {
      "image/png": "[encoded data removed]",
      "text/plain": [
       "<Figure size 600x600 with 1 Axes>"
      ]
     },
     "metadata": {
      "needs_background": "light"
     },
     "output_type": "display_data"
    }
   ],
   "source": [
    "fig, ax = plt.subplots(figsize=(4,4),dpi=150)\n",
    "\n",
    "patches = []\n",
    "\n",
    "\n",
    "\n",
    "ax.plot(ds_iorg_mean.cluster_size_mean*500, ds_iorg_mean.Iorg,'.', markersize=0.1)\n",
    "ax.set_aspect(1)\n",
    "\n",
    "for t, (y,x) in enumerate(zip(ds_iorg_mean.cluster_size_mean.values*500, ds_iorg_mean.Iorg.values)):\n",
    "#     if t>15:continue\n",
    "    date = ds_iorg_mean.isel(date=t).date.values\n",
    "    date = dt.datetime.combine(date.item(), dt.datetime.min.time())\n",
    "    try:\n",
    "        data = df1.loc[date]\n",
    "    except KeyError:\n",
    "        continue\n",
    "# Some limiting conditions on Wedge\n",
    "    for p_,pattern in enumerate(['Sugar','Gravel', 'Flowers','Fish']):\n",
    "        w = Wedge((y, x), data[pattern]/80, p_*90, (p_+1)*90, fc=color_dict[pattern])\n",
    "\n",
    "        ax.add_patch(w)\n",
    "\n",
    "\n",
    "plt.xlabel('mean cluster size')\n",
    "plt.ylabel('I$_{org}$')\n",
    "sns.despine(offset=5)\n",
    "# plt.savefig('./figures/Iorg_vs_S_hueNN.pdf', bbox_inches=\"tight\")"
   ]
  }
 ],
 "metadata": {
  "kernelspec": {
   "display_name": "mesoscale",
   "language": "python",
   "name": "mesoscale"
  },
  "language_info": {
   "codemirror_mode": {
    "name": "ipython",
    "version": 3
   },
   "file_extension": ".py",
   "mimetype": "text/x-python",
   "name": "python",
   "nbconvert_exporter": "python",
   "pygments_lexer": "ipython3",
   "version": "3.9.0"
  }
 },
 "nbformat": 4,
 "nbformat_minor": 4
}
